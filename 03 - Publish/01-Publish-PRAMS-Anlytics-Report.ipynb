{
 "cells": [
  {
   "cell_type": "markdown",
   "metadata": {
    "application/vnd.databricks.v1+cell": {
     "cellMetadata": {
      "byteLimit": 2048000,
      "rowLimit": 10000
     },
     "inputWidgets": {},
     "nuid": "6a4afb07-a9de-4c9f-9140-3ae328b1bb82",
     "showTitle": false,
     "tableResultSettingsMap": {},
     "title": ""
    }
   },
   "source": [
    "Generate a report on top 5 pregnancy risks responses in USA, report year 2011"
   ]
  },
  {
   "cell_type": "code",
   "execution_count": 0,
   "metadata": {
    "application/vnd.databricks.v1+cell": {
     "cellMetadata": {
      "byteLimit": 2048000,
      "rowLimit": 10000
     },
     "inputWidgets": {},
     "nuid": "0567e79c-82bf-4de8-ac41-538e3d3b16b0",
     "showTitle": false,
     "tableResultSettingsMap": {},
     "title": ""
    }
   },
   "outputs": [
    {
     "output_type": "display_data",
     "data": {
      "text/plain": [
       "Databricks visualization. Run in Databricks to view."
      ]
     },
     "metadata": {
      "application/vnd.databricks.v1.subcommand+json": {
       "baseErrorDetails": null,
       "bindings": {},
       "collapsed": false,
       "command": "%sql WITH q AS (select distinct\n  q.Question_Id,\n  q.Question,\n  count(*) as response_count\nfrom materncare_anlytics.gold.prams_data_fact f\njoin materncare_anlytics.gold.prams_questions_dim q\n  on f.QuestionId= q.Question_Id\ngroup by q.Question, q.Question_Id, q.question_no\norder by response_count asc\nlimit 5) SELECT `Question_Id`,`Question`,SUM(`response_count`) `column_cafef15230` FROM q GROUP BY `Question_Id`,`Question`",
       "commandTitle": "Visualization 1",
       "commandType": "auto",
       "commandVersion": 0,
       "commentThread": [],
       "commentsVisible": false,
       "contentSha256Hex": null,
       "customPlotOptions": {
        "redashChart": [
         {
          "key": "type",
          "value": "CHART"
         },
         {
          "key": "options",
          "value": {
           "alignYAxesAtZero": true,
           "coefficient": 1,
           "columnConfigurationMap": {
            "series": {
             "column": "Question",
             "id": "column_cafef15229"
            },
            "x": {
             "column": "Question_Id",
             "id": "column_cafef15228"
            },
            "y": [
             {
              "column": "response_count",
              "id": "column_cafef15230",
              "transform": "SUM"
             }
            ]
           },
           "dateTimeFormat": "DD/MM/YYYY HH:mm",
           "direction": {
            "type": "counterclockwise"
           },
           "error_y": {
            "type": "data",
            "visible": true
           },
           "globalSeriesType": "column",
           "legend": {
            "traceorder": "normal"
           },
           "missingValuesAsZero": true,
           "numberFormat": "0,0.[00000]",
           "percentFormat": "0[.]00%",
           "series": {
            "error_y": {
             "type": "data",
             "visible": true
            },
            "stacking": "stack"
           },
           "seriesOptions": {
            "column_cafef15230": {
             "name": "response_count",
             "yAxis": 0
            }
           },
           "showDataLabels": false,
           "sizemode": "diameter",
           "sortX": true,
           "sortY": true,
           "swappedAxes": true,
           "textFormat": "",
           "useAggregationsUi": true,
           "valuesOptions": {},
           "version": 2,
           "xAxis": {
            "labels": {
             "enabled": true
            },
            "type": "-"
           },
           "yAxis": [
            {
             "type": "-"
            },
            {
             "opposite": true,
             "type": "-"
            }
           ]
          }
         }
        ]
       },
       "datasetPreviewNameToCmdIdMap": {},
       "diffDeletes": [],
       "diffInserts": [],
       "displayType": "redashChart",
       "error": null,
       "errorDetails": null,
       "errorSummary": null,
       "errorTraceType": null,
       "finishTime": 0,
       "globalVars": {},
       "guid": "",
       "height": "auto",
       "hideCommandCode": false,
       "hideCommandResult": false,
       "iPythonMetadata": null,
       "inputWidgets": {},
       "isLockedInExamMode": false,
       "latestUser": "a user",
       "latestUserId": null,
       "listResultMetadata": null,
       "metadata": {},
       "nuid": "0fa2058c-484b-4795-a558-9aed4cd53d6c",
       "origId": 0,
       "parentHierarchy": [],
       "pivotAggregation": null,
       "pivotColumns": null,
       "position": 2.5,
       "resultDbfsErrorMessage": null,
       "resultDbfsStatus": "INLINED_IN_TREE",
       "results": null,
       "showCommandTitle": false,
       "startTime": 0,
       "state": "input",
       "streamStates": {},
       "subcommandOptions": {
        "queryPlan": {
         "groups": [
          {
           "column": "Question_Id",
           "type": "column"
          },
          {
           "column": "Question",
           "type": "column"
          }
         ],
         "selects": [
          {
           "column": "Question_Id",
           "type": "column"
          },
          {
           "column": "Question",
           "type": "column"
          },
          {
           "alias": "column_cafef15230",
           "args": [
            {
             "column": "response_count",
             "type": "column"
            }
           ],
           "function": "SUM",
           "type": "function"
          }
         ]
        }
       },
       "submitTime": 0,
       "subtype": "tableResultSubCmd.visualization",
       "tableResultIndex": 0,
       "tableResultSettingsMap": {},
       "useConsistentColors": false,
       "version": "CommandV1",
       "width": "auto",
       "workflows": null,
       "xColumns": null,
       "yColumns": null
      }
     },
     "output_type": "display_data"
    }
   ],
   "source": [
    "select distinct\n",
    "  q.Question_Id,\n",
    "  q.Question,\n",
    "  count(*) as response_count\n",
    "from materncare_anlytics.gold.prams_data_fact f\n",
    "join materncare_anlytics.gold.prams_questions_dim q\n",
    "  on f.QuestionId= q.Question_Id\n",
    "group by q.Question, q.Question_Id, q.question_no\n",
    "order by response_count asc\n",
    "limit 5"
   ]
  },
  {
   "cell_type": "code",
   "execution_count": 0,
   "metadata": {
    "application/vnd.databricks.v1+cell": {
     "cellMetadata": {
      "byteLimit": 2048000,
      "rowLimit": 10000
     },
     "inputWidgets": {},
     "nuid": "b7cc395d-9dc7-4541-b01b-4f28e5b54b0a",
     "showTitle": false,
     "tableResultSettingsMap": {},
     "title": ""
    }
   },
   "outputs": [],
   "source": [
    "select \n",
    "  q.Question_Id,\n",
    "  q.Question,\n",
    "  count(*) as yes_response_count\n",
    "from materncare_anlytics.gold.prams_data_fact f\n",
    "join materncare_anlytics.gold.prams_questions_dim q\n",
    "  on f.QuestionId = q.Question_Id\n",
    "where f.ResponseId = 'RES40'\n",
    "group by q.Question, q.Question_Id\n",
    "order by yes_response_count desc\n",
    "limit 1"
   ]
  },
  {
   "cell_type": "code",
   "execution_count": 0,
   "metadata": {
    "application/vnd.databricks.v1+cell": {
     "cellMetadata": {
      "byteLimit": 2048000,
      "rowLimit": 10000
     },
     "inputWidgets": {},
     "nuid": "5ca706d4-2f49-4076-81b7-b112e0f7ae91",
     "showTitle": false,
     "tableResultSettingsMap": {},
     "title": ""
    }
   },
   "outputs": [],
   "source": [
    "select * from materncare_anlytics.gold.prams_response_dim --where response in (\"YES\",\"yes\")"
   ]
  },
  {
   "cell_type": "markdown",
   "metadata": {
    "application/vnd.databricks.v1+cell": {
     "cellMetadata": {
      "byteLimit": 2048000,
      "rowLimit": 10000
     },
     "inputWidgets": {},
     "nuid": "125942be-38bb-4ff0-80b8-f32f92fd1377",
     "showTitle": false,
     "tableResultSettingsMap": {},
     "title": ""
    }
   },
   "source": []
  }
 ],
 "metadata": {
  "application/vnd.databricks.v1+notebook": {
   "computePreferences": null,
   "dashboards": [
    {
     "elements": [
      {
       "dashboardResultIndex": null,
       "elementNUID": "0567e79c-82bf-4de8-ac41-538e3d3b16b0",
       "elementType": "command",
       "guid": "33233560-48db-4124-8e1a-ddd5a85b2ff6",
       "options": null,
       "position": {
        "height": 5,
        "width": 24,
        "x": 0,
        "y": 0,
        "z": null
       },
       "resultIndex": null
      },
      {
       "dashboardResultIndex": null,
       "elementNUID": "125942be-38bb-4ff0-80b8-f32f92fd1377",
       "elementType": "command",
       "guid": "84d95a22-c48a-4dd0-bd90-76650c34c68b",
       "options": null,
       "position": {
        "height": 5,
        "width": 24,
        "x": 0,
        "y": 5,
        "z": null
       },
       "resultIndex": null
      },
      {
       "dashboardResultIndex": null,
       "elementNUID": "6a4afb07-a9de-4c9f-9140-3ae328b1bb82",
       "elementType": "command",
       "guid": "a853b946-79a3-4936-b046-25eade87731b",
       "options": null,
       "position": {
        "height": 6,
        "width": 12,
        "x": 0,
        "y": 10,
        "z": null
       },
       "resultIndex": null
      }
     ],
     "globalVars": {},
     "guid": "",
     "layoutOption": {
      "grid": true,
      "stack": true
     },
     "nuid": "c370a801-d028-4d8d-a93b-222978f45376",
     "origId": 9000417474581338,
     "title": "Pregnancy Risk Analytics",
     "version": "DashboardViewV1",
     "width": 1024
    },
    {
     "elements": [
      {
       "dashboardResultIndex": null,
       "elementNUID": "0567e79c-82bf-4de8-ac41-538e3d3b16b0",
       "elementType": "command",
       "guid": "1095cc4a-a0c9-4ab8-818d-4471a52dc6fb",
       "options": null,
       "position": {
        "height": 6,
        "width": 12,
        "x": 0,
        "y": 0,
        "z": null
       },
       "resultIndex": null
      },
      {
       "dashboardResultIndex": null,
       "elementNUID": "6a4afb07-a9de-4c9f-9140-3ae328b1bb82",
       "elementType": "command",
       "guid": "51f1cdab-8d18-4a68-abbf-8230117c12f3",
       "options": null,
       "position": {
        "height": 6,
        "width": 12,
        "x": 0,
        "y": 6,
        "z": null
       },
       "resultIndex": null
      },
      {
       "dashboardResultIndex": null,
       "elementNUID": "b7cc395d-9dc7-4541-b01b-4f28e5b54b0a",
       "elementType": "command",
       "guid": "82b5aea0-00bf-47fc-a49a-f43898186f51",
       "options": null,
       "position": {
        "height": 6,
        "width": 12,
        "x": 0,
        "y": 12,
        "z": null
       },
       "resultIndex": null
      },
      {
       "dashboardResultIndex": null,
       "elementNUID": "125942be-38bb-4ff0-80b8-f32f92fd1377",
       "elementType": "command",
       "guid": "8d9eb89e-3a68-4bfe-832b-64c9c2210e0e",
       "options": null,
       "position": {
        "height": 6,
        "width": 12,
        "x": 0,
        "y": 18,
        "z": null
       },
       "resultIndex": null
      },
      {
       "dashboardResultIndex": null,
       "elementNUID": "5ca706d4-2f49-4076-81b7-b112e0f7ae91",
       "elementType": "command",
       "guid": "d7684ed8-7606-4317-83c5-8a78559859d4",
       "options": null,
       "position": {
        "height": 6,
        "width": 12,
        "x": 0,
        "y": 30,
        "z": null
       },
       "resultIndex": null
      }
     ],
     "globalVars": {},
     "guid": "",
     "layoutOption": {
      "grid": true,
      "stack": true
     },
     "nuid": "7bb4f269-7758-459a-974f-b475a3c36a8e",
     "origId": 9000417474581342,
     "title": "Untitled",
     "version": "DashboardViewV1",
     "width": 1024
    }
   ],
   "environmentMetadata": {
    "base_environment": "",
    "environment_version": "2"
   },
   "inputWidgetPreferences": null,
   "language": "sql",
   "notebookMetadata": {
    "pythonIndentUnit": 4
   },
   "notebookName": "01-Publish-PRAMS-Anlytics-Report",
   "widgets": {}
  },
  "language_info": {
   "name": "sql"
  }
 },
 "nbformat": 4,
 "nbformat_minor": 0
}
