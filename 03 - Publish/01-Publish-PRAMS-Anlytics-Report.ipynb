{
 "cells": [
  {
   "cell_type": "markdown",
   "metadata": {
    "application/vnd.databricks.v1+cell": {
     "cellMetadata": {
      "byteLimit": 2048000,
      "rowLimit": 10000
     },
     "inputWidgets": {},
     "nuid": "6a4afb07-a9de-4c9f-9140-3ae328b1bb82",
     "showTitle": true,
     "tableResultSettingsMap": {},
     "title": ""
    },
    "jupyter": {
     "outputs_hidden": true
    }
   },
   "source": [
    "Generate Reports and publish dashboard"
   ]
  },
  {
   "cell_type": "code",
   "execution_count": 0,
   "metadata": {
    "application/vnd.databricks.v1+cell": {
     "cellMetadata": {
      "byteLimit": 2048000,
      "rowLimit": 10000
     },
     "inputWidgets": {},
     "nuid": "f17e517d-42c1-4255-99b2-6a1c7b42ad01",
     "showTitle": false,
     "tableResultSettingsMap": {},
     "title": ""
    }
   },
   "outputs": [
    {
     "output_type": "display_data",
     "data": {
      "text/plain": [
       "Databricks visualization. Run in Databricks to view."
      ]
     },
     "metadata": {
      "application/vnd.databricks.v1.subcommand+json": {
       "baseErrorDetails": null,
       "bindings": {},
       "collapsed": false,
       "command": "/* Total count of surevey responses */\nselect count(*) from materncare_anlytics.gold.prams_data_fact",
       "commandTitle": "Visualization 1",
       "commandType": "auto",
       "commandVersion": 0,
       "commentThread": [],
       "commentsVisible": false,
       "contentSha256Hex": null,
       "customPlotOptions": {
        "redashChart": [
         {
          "key": "type",
          "value": "COUNTER"
         },
         {
          "key": "options",
          "value": {
           "counterColName": "count(1)",
           "counterLabel": "",
           "rowNumber": 1,
           "stringDecChar": ".",
           "stringDecimal": 0,
           "stringThouSep": ",",
           "targetRowNumber": 1,
           "tooltipFormat": "0,0.000"
          }
         }
        ]
       },
       "datasetPreviewNameToCmdIdMap": {},
       "diffDeletes": [],
       "diffInserts": [],
       "displayType": "redashChart",
       "error": null,
       "errorDetails": null,
       "errorSummary": null,
       "errorTraceType": null,
       "finishTime": 0,
       "globalVars": {},
       "guid": "",
       "height": "auto",
       "hideCommandCode": false,
       "hideCommandResult": false,
       "iPythonMetadata": null,
       "inputWidgets": {},
       "isLockedInExamMode": false,
       "latestUser": "a user",
       "latestUserId": null,
       "listResultMetadata": null,
       "metadata": {},
       "nuid": "1636bae9-187a-4dcd-955f-e7a1b4e4e39e",
       "origId": 0,
       "parentHierarchy": [],
       "pivotAggregation": null,
       "pivotColumns": null,
       "position": 2.125,
       "resultDbfsErrorMessage": null,
       "resultDbfsStatus": "INLINED_IN_TREE",
       "results": null,
       "showCommandTitle": false,
       "startTime": 0,
       "state": "input",
       "streamStates": {},
       "subcommandOptions": {},
       "submitTime": 0,
       "subtype": "tableResultSubCmd.visualization",
       "tableResultIndex": 0,
       "tableResultSettingsMap": {},
       "useConsistentColors": false,
       "version": "CommandV1",
       "width": "auto",
       "workflows": null,
       "xColumns": null,
       "yColumns": null
      }
     },
     "output_type": "display_data"
    }
   ],
   "source": [
    "/* Total count of surevey responses */\n",
    "select count(*) from materncare_anlytics.gold.prams_data_fact"
   ]
  },
  {
   "cell_type": "code",
   "execution_count": 0,
   "metadata": {
    "application/vnd.databricks.v1+cell": {
     "cellMetadata": {
      "byteLimit": 2048000,
      "rowLimit": 10000
     },
     "inputWidgets": {},
     "nuid": "0567e79c-82bf-4de8-ac41-538e3d3b16b0",
     "showTitle": false,
     "tableResultSettingsMap": {},
     "title": ""
    }
   },
   "outputs": [
    {
     "output_type": "display_data",
     "data": {
      "text/plain": [
       "Databricks visualization. Run in Databricks to view."
      ]
     },
     "metadata": {
      "application/vnd.databricks.v1.subcommand+json": {
       "baseErrorDetails": null,
       "bindings": {},
       "collapsed": false,
       "command": "%sql WITH q AS (select distinct\n  q.Question_Id,\n  q.Question,\n  count(*) as response_count\nfrom materncare_anlytics.gold.prams_data_fact f\njoin materncare_anlytics.gold.prams_questions_dim q\n  on f.QuestionId= q.Question_Id\ngroup by q.Question, q.Question_Id, q.question_no\norder by response_count asc\nlimit 5) SELECT `Question_Id`,`Question`,SUM(`response_count`) `column_cafef15230` FROM q GROUP BY `Question_Id`,`Question`",
       "commandTitle": "Visualization 1",
       "commandType": "auto",
       "commandVersion": 0,
       "commentThread": [],
       "commentsVisible": false,
       "contentSha256Hex": null,
       "customPlotOptions": {
        "redashChart": [
         {
          "key": "type",
          "value": "CHART"
         },
         {
          "key": "options",
          "value": {
           "alignYAxesAtZero": true,
           "coefficient": 1,
           "columnConfigurationMap": {
            "series": {
             "column": "Question",
             "id": "column_cafef15229"
            },
            "x": {
             "column": "Question_Id",
             "id": "column_cafef15228"
            },
            "y": [
             {
              "column": "response_count",
              "id": "column_cafef15230",
              "transform": "SUM"
             }
            ]
           },
           "dateTimeFormat": "DD/MM/YYYY HH:mm",
           "direction": {
            "type": "counterclockwise"
           },
           "error_y": {
            "type": "data",
            "visible": true
           },
           "globalSeriesType": "column",
           "legend": {
            "traceorder": "normal"
           },
           "missingValuesAsZero": true,
           "numberFormat": "0,0.[00000]",
           "percentFormat": "0[.]00%",
           "series": {
            "error_y": {
             "type": "data",
             "visible": true
            },
            "stacking": "stack"
           },
           "seriesOptions": {
            "column_cafef15230": {
             "name": "response_count",
             "yAxis": 0
            }
           },
           "showDataLabels": false,
           "sizemode": "diameter",
           "sortX": true,
           "sortY": true,
           "swappedAxes": true,
           "textFormat": "",
           "useAggregationsUi": true,
           "valuesOptions": {},
           "version": 2,
           "xAxis": {
            "labels": {
             "enabled": true
            },
            "type": "-"
           },
           "yAxis": [
            {
             "type": "-"
            },
            {
             "opposite": true,
             "type": "-"
            }
           ]
          }
         }
        ]
       },
       "datasetPreviewNameToCmdIdMap": {},
       "diffDeletes": [],
       "diffInserts": [],
       "displayType": "redashChart",
       "error": null,
       "errorDetails": null,
       "errorSummary": null,
       "errorTraceType": null,
       "finishTime": 0,
       "globalVars": {},
       "guid": "",
       "height": "auto",
       "hideCommandCode": false,
       "hideCommandResult": false,
       "iPythonMetadata": null,
       "inputWidgets": {},
       "isLockedInExamMode": false,
       "latestUser": "a user",
       "latestUserId": null,
       "listResultMetadata": null,
       "metadata": {},
       "nuid": "0fa2058c-484b-4795-a558-9aed4cd53d6c",
       "origId": 0,
       "parentHierarchy": [],
       "pivotAggregation": null,
       "pivotColumns": null,
       "position": 2.5,
       "resultDbfsErrorMessage": null,
       "resultDbfsStatus": "INLINED_IN_TREE",
       "results": null,
       "showCommandTitle": false,
       "startTime": 0,
       "state": "input",
       "streamStates": {},
       "subcommandOptions": {
        "queryPlan": {
         "groups": [
          {
           "column": "Question_Id",
           "type": "column"
          },
          {
           "column": "Question",
           "type": "column"
          }
         ],
         "selects": [
          {
           "column": "Question_Id",
           "type": "column"
          },
          {
           "column": "Question",
           "type": "column"
          },
          {
           "alias": "column_cafef15230",
           "args": [
            {
             "column": "response_count",
             "type": "column"
            }
           ],
           "function": "SUM",
           "type": "function"
          }
         ]
        }
       },
       "submitTime": 0,
       "subtype": "tableResultSubCmd.visualization",
       "tableResultIndex": 0,
       "tableResultSettingsMap": {},
       "useConsistentColors": false,
       "version": "CommandV1",
       "width": "auto",
       "workflows": null,
       "xColumns": null,
       "yColumns": null
      }
     },
     "output_type": "display_data"
    }
   ],
   "source": [
    "/* Top 5 responded questions*/\n",
    "select distinct\n",
    "  q.Question_Id,\n",
    "  q.Question,\n",
    "  count(*) as response_count\n",
    "from materncare_anlytics.gold.prams_data_fact f\n",
    "join materncare_anlytics.gold.prams_questions_dim q\n",
    "  on f.QuestionId= q.Question_Id\n",
    "  where f.QuestionId not in('QUO326', 'QUO326')\n",
    "group by q.Question, q.Question_Id, q.question_no\n",
    "order by response_count desc\n",
    "limit 5"
   ]
  },
  {
   "cell_type": "markdown",
   "metadata": {
    "application/vnd.databricks.v1+cell": {
     "cellMetadata": {
      "byteLimit": 2048000,
      "rowLimit": 10000
     },
     "inputWidgets": {},
     "nuid": "125942be-38bb-4ff0-80b8-f32f92fd1377",
     "showTitle": false,
     "tableResultSettingsMap": {},
     "title": ""
    }
   },
   "source": []
  },
  {
   "cell_type": "code",
   "execution_count": 0,
   "metadata": {
    "application/vnd.databricks.v1+cell": {
     "cellMetadata": {
      "byteLimit": 2048000,
      "rowLimit": 10000
     },
     "inputWidgets": {},
     "nuid": "472f4295-bc42-4c21-a441-10e0acb2904f",
     "showTitle": false,
     "tableResultSettingsMap": {},
     "title": ""
    }
   },
   "outputs": [],
   "source": [
    "select *,qd.Question,prd.response from materncare_anlytics.gold.prams_data_fact f\n",
    "join materncare_anlytics.gold.prams_questions_dim qd\n",
    "  on f.questionid = qd.question_id\n",
    "  join materncare_anlytics.gold.prams_response_dim prd\n",
    "    on f.responseid = prd.responseid\n",
    "    where f.questionid = 'QUO31'"
   ]
  },
  {
   "cell_type": "code",
   "execution_count": 0,
   "metadata": {
    "application/vnd.databricks.v1+cell": {
     "cellMetadata": {
      "byteLimit": 2048000,
      "rowLimit": 10000
     },
     "inputWidgets": {},
     "nuid": "6f7f7c36-9914-4c46-b5b5-62a929ebe2c5",
     "showTitle": false,
     "tableResultSettingsMap": {},
     "title": ""
    }
   },
   "outputs": [],
   "source": [
    "select count(*) as medicaidCoverageNo, pqd.Question\n",
    "from materncare_anlytics.gold.prams_response_dim prd\n",
    "join materncare_anlytics.gold.prams_data_fact pdf\n",
    "  on prd.responseid = pdf.ResponseId\n",
    "join materncare_anlytics.gold.prams_questions_dim pqd\n",
    "  on pdf.questionid = pqd.question_id\n",
    "where pdf.questionid = 'QUO25'\n",
    "  and lower(prd.response) like 'no%'\n",
    "group by pqd.Question"
   ]
  },
  {
   "cell_type": "code",
   "execution_count": 0,
   "metadata": {
    "application/vnd.databricks.v1+cell": {
     "cellMetadata": {
      "byteLimit": 2048000,
      "rowLimit": 10000
     },
     "inputWidgets": {},
     "nuid": "9fea53cb-86c4-41ed-9c40-8ff4986136fd",
     "showTitle": false,
     "tableResultSettingsMap": {},
     "title": ""
    }
   },
   "outputs": [
    {
     "output_type": "display_data",
     "data": {
      "text/plain": [
       "Databricks visualization. Run in Databricks to view."
      ]
     },
     "metadata": {
      "application/vnd.databricks.v1.subcommand+json": {
       "baseErrorDetails": null,
       "bindings": {},
       "collapsed": false,
       "command": "%sql WITH q AS (select\n  lower(prd.response) like 'yes%' as is_medicaid_coverage_yes,\n  count(*) as count\nfrom materncare_anlytics.gold.prams_response_dim prd\njoin materncare_anlytics.gold.prams_data_fact pdf\n  on prd.responseid = pdf.ResponseId\njoin materncare_anlytics.gold.prams_questions_dim pqd\n  on pdf.questionid = pqd.question_id\nwhere pdf.questionid = 'QUO25'\n  and (lower(prd.response) like 'yes%' or lower(prd.response) like 'no%')\ngroup by lower(prd.response) like 'yes%') SELECT `is_medicaid_coverage_yes`,SUM(`count`) `column_2de96e2172` FROM q GROUP BY `is_medicaid_coverage_yes`",
       "commandTitle": "Visualization 1",
       "commandType": "auto",
       "commandVersion": 0,
       "commentThread": [],
       "commentsVisible": false,
       "contentSha256Hex": null,
       "customPlotOptions": {
        "redashChart": [
         {
          "key": "type",
          "value": "CHART"
         },
         {
          "key": "options",
          "value": {
           "alignYAxesAtZero": true,
           "coefficient": 1,
           "columnConfigurationMap": {
            "x": {
             "column": "is_medicaid_coverage_yes",
             "id": "column_2de96e2171"
            },
            "y": [
             {
              "column": "count",
              "id": "column_2de96e2172",
              "transform": "SUM"
             }
            ]
           },
           "dateTimeFormat": "DD/MM/YYYY HH:mm",
           "direction": {
            "type": "counterclockwise"
           },
           "error_y": {
            "type": "data",
            "visible": true
           },
           "globalSeriesType": "pie",
           "legend": {
            "traceorder": "normal"
           },
           "missingValuesAsZero": true,
           "numberFormat": "0,0.[00000]",
           "percentFormat": "0[.]00%",
           "series": {
            "error_y": {
             "type": "data",
             "visible": true
            },
            "stacking": null
           },
           "seriesOptions": {
            "column_2de96e2172": {
             "name": "count",
             "type": "pie",
             "yAxis": 0
            }
           },
           "showDataLabels": true,
           "sizemode": "diameter",
           "sortX": true,
           "sortY": true,
           "swappedAxes": false,
           "textFormat": "",
           "useAggregationsUi": true,
           "valuesOptions": {},
           "version": 2,
           "xAxis": {
            "labels": {
             "enabled": true
            },
            "type": "-"
           },
           "yAxis": [
            {
             "type": "-"
            },
            {
             "opposite": true,
             "type": "-"
            }
           ]
          }
         }
        ]
       },
       "datasetPreviewNameToCmdIdMap": {},
       "diffDeletes": [],
       "diffInserts": [],
       "displayType": "redashChart",
       "error": null,
       "errorDetails": null,
       "errorSummary": null,
       "errorTraceType": null,
       "finishTime": 0,
       "globalVars": {},
       "guid": "",
       "height": "auto",
       "hideCommandCode": false,
       "hideCommandResult": false,
       "iPythonMetadata": null,
       "inputWidgets": {},
       "isLockedInExamMode": false,
       "latestUser": "a user",
       "latestUserId": null,
       "listResultMetadata": null,
       "metadata": {},
       "nuid": "2695e127-9a9f-4296-a90f-8530689d86bb",
       "origId": 0,
       "parentHierarchy": [],
       "pivotAggregation": null,
       "pivotColumns": null,
       "position": 7.0,
       "resultDbfsErrorMessage": null,
       "resultDbfsStatus": "INLINED_IN_TREE",
       "results": null,
       "showCommandTitle": false,
       "startTime": 0,
       "state": "input",
       "streamStates": {},
       "subcommandOptions": {
        "queryPlan": {
         "groups": [
          {
           "column": "is_medicaid_coverage_yes",
           "type": "column"
          }
         ],
         "selects": [
          {
           "column": "is_medicaid_coverage_yes",
           "type": "column"
          },
          {
           "alias": "column_2de96e2172",
           "args": [
            {
             "column": "count",
             "type": "column"
            }
           ],
           "function": "SUM",
           "type": "function"
          }
         ]
        }
       },
       "submitTime": 0,
       "subtype": "tableResultSubCmd.visualization",
       "tableResultIndex": 0,
       "tableResultSettingsMap": {},
       "useConsistentColors": false,
       "version": "CommandV1",
       "width": "auto",
       "workflows": null,
       "xColumns": null,
       "yColumns": null
      }
     },
     "output_type": "display_data"
    }
   ],
   "source": [
    "select\n",
    "  lower(prd.response) like 'yes%' as is_medicaid_coverage_yes,\n",
    "  count(*) as count\n",
    "from materncare_anlytics.gold.prams_response_dim prd\n",
    "join materncare_anlytics.gold.prams_data_fact pdf\n",
    "  on prd.responseid = pdf.ResponseId\n",
    "join materncare_anlytics.gold.prams_questions_dim pqd\n",
    "  on pdf.questionid = pqd.question_id\n",
    "where pdf.questionid = 'QUO25'\n",
    "  and (lower(prd.response) like 'yes%' or lower(prd.response) like 'no%')\n",
    "group by lower(prd.response) like 'yes%'"
   ]
  },
  {
   "cell_type": "markdown",
   "metadata": {
    "application/vnd.databricks.v1+cell": {
     "cellMetadata": {},
     "inputWidgets": {},
     "nuid": "469e7c5a-02a0-4d24-85ca-4bb2a9523f4d",
     "showTitle": false,
     "tableResultSettingsMap": {},
     "title": ""
    }
   },
   "source": []
  },
  {
   "cell_type": "code",
   "execution_count": 0,
   "metadata": {
    "application/vnd.databricks.v1+cell": {
     "cellMetadata": {
      "byteLimit": 2048000,
      "rowLimit": 10000
     },
     "inputWidgets": {},
     "nuid": "99c3cf1b-ea97-440e-8472-76ccc2970d21",
     "showTitle": false,
     "tableResultSettingsMap": {},
     "title": ""
    }
   },
   "outputs": [],
   "source": [
    "select\n",
    "  lower(prd.response) like 'yes%' as smoked_yes_no,\n",
    "  count(*) as count\n",
    "from materncare_anlytics.gold.prams_response_dim prd\n",
    "join materncare_anlytics.gold.prams_data_fact pdf\n",
    "  on prd.responseid = pdf.ResponseId\n",
    "join materncare_anlytics.gold.prams_questions_dim pqd\n",
    "  on pdf.questionid = pqd.question_id\n",
    "where pdf.questionid = 'QUO31'\n",
    "  and (lower(prd.response) like 'yes%' or lower(prd.response) like 'no%')\n",
    "group by lower(prd.response) like 'yes%'"
   ]
  },
  {
   "cell_type": "code",
   "execution_count": 0,
   "metadata": {
    "application/vnd.databricks.v1+cell": {
     "cellMetadata": {},
     "inputWidgets": {},
     "nuid": "a0a7455f-b3a6-46c2-8b05-51738c0860d1",
     "showTitle": false,
     "tableResultSettingsMap": {},
     "title": ""
    }
   },
   "outputs": [],
   "source": [
    "delete from materncare_anlytics.silver.prams_data_fact where"
   ]
  },
  {
   "cell_type": "code",
   "execution_count": 0,
   "metadata": {
    "application/vnd.databricks.v1+cell": {
     "cellMetadata": {
      "byteLimit": 2048000,
      "rowLimit": 10000
     },
     "inputWidgets": {},
     "nuid": "c6b33243-3544-44dd-b9b0-eeeccf8bc169",
     "showTitle": false,
     "tableResultSettingsMap": {},
     "title": ""
    }
   },
   "outputs": [
    {
     "output_type": "display_data",
     "data": {
      "text/plain": [
       "Databricks visualization. Run in Databricks to view."
      ]
     },
     "metadata": {
      "application/vnd.databricks.v1.subcommand+json": {
       "baseErrorDetails": null,
       "bindings": {},
       "collapsed": false,
       "command": "%sql WITH q AS (select\n  LocationAbbr as state,\n  max(Sample_Size) as max_sample_size\nfrom materncare_anlytics.gold.prams_data_fact\nwhere LocationAbbr not in ('PRAMS Total')\ngroup by LocationAbbr\norder by max_sample_size desc) SELECT `state`,SUM(`max_sample_size`) `column_b442a92567` FROM q GROUP BY `state`",
       "commandTitle": "Visualization 1",
       "commandType": "auto",
       "commandVersion": 0,
       "commentThread": [],
       "commentsVisible": false,
       "contentSha256Hex": null,
       "customPlotOptions": {
        "redashChart": [
         {
          "key": "type",
          "value": "CHART"
         },
         {
          "key": "options",
          "value": {
           "alignYAxesAtZero": true,
           "coefficient": 1,
           "columnConfigurationMap": {
            "x": {
             "column": "state",
             "id": "column_b442a92566"
            },
            "y": [
             {
              "column": "max_sample_size",
              "id": "column_b442a92567",
              "transform": "SUM"
             }
            ]
           },
           "dateTimeFormat": "DD/MM/YYYY HH:mm",
           "direction": {
            "type": "counterclockwise"
           },
           "error_y": {
            "type": "data",
            "visible": true
           },
           "globalSeriesType": "column",
           "isAggregationOn": true,
           "legend": {
            "traceorder": "normal"
           },
           "missingValuesAsZero": true,
           "numberFormat": "0,0.[00000]",
           "percentFormat": "0[.]00%",
           "reverseX": false,
           "series": {
            "error_y": {
             "type": "data",
             "visible": true
            },
            "stacking": null
           },
           "seriesOptions": {
            "column_b442a92567": {
             "name": "max_sample_size",
             "yAxis": 0
            }
           },
           "showDataLabels": false,
           "sizemode": "diameter",
           "sortX": true,
           "sortY": true,
           "swappedAxes": true,
           "textFormat": "",
           "useAggregationsUi": true,
           "valuesOptions": {},
           "version": 2,
           "xAxis": {
            "labels": {
             "enabled": true
            },
            "type": "-"
           },
           "yAxis": [
            {
             "title": {
              "text": "Sample Size"
             },
             "type": "-"
            },
            {
             "opposite": true,
             "type": "-"
            }
           ]
          }
         }
        ]
       },
       "datasetPreviewNameToCmdIdMap": {},
       "diffDeletes": [],
       "diffInserts": [],
       "displayType": "redashChart",
       "error": null,
       "errorDetails": null,
       "errorSummary": null,
       "errorTraceType": null,
       "finishTime": 0,
       "globalVars": {},
       "guid": "",
       "height": "auto",
       "hideCommandCode": false,
       "hideCommandResult": false,
       "iPythonMetadata": null,
       "inputWidgets": {},
       "isLockedInExamMode": false,
       "latestUser": "a user",
       "latestUserId": null,
       "listResultMetadata": null,
       "metadata": {},
       "nuid": "6e907e2c-f5ad-4b4b-bf4d-e502ddc23bcf",
       "origId": 0,
       "parentHierarchy": [],
       "pivotAggregation": null,
       "pivotColumns": null,
       "position": 10.0,
       "resultDbfsErrorMessage": null,
       "resultDbfsStatus": "INLINED_IN_TREE",
       "results": null,
       "showCommandTitle": false,
       "startTime": 0,
       "state": "input",
       "streamStates": {},
       "subcommandOptions": {
        "queryPlan": {
         "groups": [
          {
           "column": "state",
           "type": "column"
          }
         ],
         "selects": [
          {
           "column": "state",
           "type": "column"
          },
          {
           "alias": "column_b442a92567",
           "args": [
            {
             "column": "max_sample_size",
             "type": "column"
            }
           ],
           "function": "SUM",
           "type": "function"
          }
         ]
        }
       },
       "submitTime": 0,
       "subtype": "tableResultSubCmd.visualization",
       "tableResultIndex": 0,
       "tableResultSettingsMap": {},
       "useConsistentColors": false,
       "version": "CommandV1",
       "width": "auto",
       "workflows": null,
       "xColumns": null,
       "yColumns": null
      }
     },
     "output_type": "display_data"
    }
   ],
   "source": [
    "/*Sample size refers to the number of women who participate in the PRAMS survey in a particular state or jurisdiction during a given year.*/\n",
    "select\n",
    "  LocationAbbr as state,\n",
    "  max(Sample_Size) as max_sample_size\n",
    "from materncare_anlytics.gold.prams_data_fact\n",
    "where LocationAbbr not in ('PRAMS Total')\n",
    "group by LocationAbbr\n",
    "order by max_sample_size desc\n"
   ]
  }
 ],
 "metadata": {
  "application/vnd.databricks.v1+notebook": {
   "computePreferences": null,
   "dashboards": [
    {
     "elements": [
      {
       "dashboardResultIndex": null,
       "elementNUID": "0567e79c-82bf-4de8-ac41-538e3d3b16b0",
       "elementType": "command",
       "guid": "1095cc4a-a0c9-4ab8-818d-4471a52dc6fb",
       "options": null,
       "position": {
        "height": 6,
        "width": 12,
        "x": 0,
        "y": 0,
        "z": null
       },
       "resultIndex": null
      },
      {
       "dashboardResultIndex": null,
       "elementNUID": "6a4afb07-a9de-4c9f-9140-3ae328b1bb82",
       "elementType": "command",
       "guid": "51f1cdab-8d18-4a68-abbf-8230117c12f3",
       "options": null,
       "position": {
        "height": 6,
        "width": 12,
        "x": 0,
        "y": 6,
        "z": null
       },
       "resultIndex": null
      },
      {
       "dashboardResultIndex": null,
       "elementNUID": "125942be-38bb-4ff0-80b8-f32f92fd1377",
       "elementType": "command",
       "guid": "8d9eb89e-3a68-4bfe-832b-64c9c2210e0e",
       "options": null,
       "position": {
        "height": 6,
        "width": 12,
        "x": 0,
        "y": 18,
        "z": null
       },
       "resultIndex": null
      }
     ],
     "globalVars": {},
     "guid": "",
     "layoutOption": {
      "grid": true,
      "stack": true
     },
     "nuid": "7bb4f269-7758-459a-974f-b475a3c36a8e",
     "origId": 9000417474581342,
     "title": "Untitled",
     "version": "DashboardViewV1",
     "width": 1024
    },
    {
     "elements": [
      {
       "dashboardResultIndex": null,
       "elementNUID": "0fa2058c-484b-4795-a558-9aed4cd53d6c",
       "elementType": "command",
       "guid": "25b41ed3-73ac-4fd1-8e70-fe88902b095f",
       "options": null,
       "position": null,
       "resultIndex": null
      },
      {
       "dashboardResultIndex": null,
       "elementNUID": "0567e79c-82bf-4de8-ac41-538e3d3b16b0",
       "elementType": "command",
       "guid": "33233560-48db-4124-8e1a-ddd5a85b2ff6",
       "options": null,
       "position": {
        "height": 5,
        "width": 24,
        "x": 0,
        "y": 0,
        "z": null
       },
       "resultIndex": null
      },
      {
       "dashboardResultIndex": null,
       "elementNUID": "125942be-38bb-4ff0-80b8-f32f92fd1377",
       "elementType": "command",
       "guid": "84d95a22-c48a-4dd0-bd90-76650c34c68b",
       "options": null,
       "position": {
        "height": 5,
        "width": 24,
        "x": 0,
        "y": 5,
        "z": null
       },
       "resultIndex": null
      },
      {
       "dashboardResultIndex": null,
       "elementNUID": "6a4afb07-a9de-4c9f-9140-3ae328b1bb82",
       "elementType": "command",
       "guid": "a853b946-79a3-4936-b046-25eade87731b",
       "options": null,
       "position": {
        "height": 6,
        "width": 12,
        "x": 0,
        "y": 10,
        "z": null
       },
       "resultIndex": null
      }
     ],
     "globalVars": {},
     "guid": "",
     "layoutOption": {
      "grid": true,
      "stack": true
     },
     "nuid": "c370a801-d028-4d8d-a93b-222978f45376",
     "origId": 9000417474581338,
     "title": "Pregnancy Risk Analytics",
     "version": "DashboardViewV1",
     "width": 1024
    }
   ],
   "environmentMetadata": {
    "base_environment": "",
    "environment_version": "2"
   },
   "inputWidgetPreferences": null,
   "language": "sql",
   "notebookMetadata": {
    "pythonIndentUnit": 4
   },
   "notebookName": "01-Publish-PRAMS-Anlytics-Report",
   "widgets": {}
  },
  "language_info": {
   "name": "sql"
  }
 },
 "nbformat": 4,
 "nbformat_minor": 0
}
