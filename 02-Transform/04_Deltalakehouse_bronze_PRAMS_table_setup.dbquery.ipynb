{
 "cells": [
  {
   "cell_type": "code",
   "execution_count": 0,
   "metadata": {
    "application/vnd.databricks.v1+cell": {
     "cellMetadata": {},
     "inputWidgets": {},
     "nuid": "bf6663b1-4b17-4a88-a797-e21d9899051f",
     "showTitle": false,
     "tableResultSettingsMap": {},
     "title": ""
    }
   },
   "outputs": [],
   "source": [
    "USE CATALOG materncare_anlytics;\n",
    "\n",
    "CREATE SCHEMA IF NOT EXISTS bronze;\n",
    "CREATE TABLE IF NOT EXISTS bronze.PRAMS_data(\n",
    "  index BIGINT,\n",
    "  Year INT,\n",
    "  LocationAbbr STRING,\n",
    "  LocationDesc STRING,\n",
    "  Class STRING,\n",
    "  Topic STRING,\n",
    "  Question STRING,\n",
    "  DataSource STRING,\n",
    "  Response STRING,\n",
    "  Data_Value_Unit STRING,\n",
    "  Data_Value_Type STRING,\n",
    "  Data_Value FLOAT,\n",
    "  Data_Value_Footnote_Symbol STRING,\n",
    "  Data_Value_Footnote STRING,\n",
    "  Low_Confidence_Limit FLOAT,\n",
    "  High_Confidence_Limit FLOAT,\n",
    "  Sample_Size FLOAT,\n",
    "  Break_Out STRING,\n",
    "  Break_Out_Category STRING,\n",
    "  Geolocation STRING,\n",
    "  ClassId STRING,\n",
    "  TopicId STRING,\n",
    "  QuestionId STRING,\n",
    "  LocationId STRING,\n",
    "  BreakOutId STRING,\n",
    "  BreakOutCategoryid STRING,\n",
    "  ResponseId STRING,\n",
    "  source_file_load_date TIMESTAMP\n",
    ")\n",
    "USING CSV\n",
    "OPTIONS(\n",
    "    'DELIMITER'=',',\n",
    "    'header'='true')\n",
    "LOCATION 'abfss://bronze@materncaredatalakehouse.dfs.core.windows.net/Pregnancy-Data'\n",
    ";"
   ]
  }
 ],
 "metadata": {
  "application/vnd.databricks.v1+notebook": {
   "computePreferences": null,
   "dashboards": [],
   "environmentMetadata": null,
   "inputWidgetPreferences": null,
   "language": "sql",
   "notebookMetadata": {
    "sqlQueryOptions": {
     "applyAutoLimit": true,
     "catalog": "materncare_anlytics",
     "schema": "default"
    }
   },
   "notebookName": "04_Deltalakehouse_bronze_PRAMS_table_setup.dbquery.ipynb",
   "widgets": {}
  },
  "language_info": {
   "name": "sql"
  }
 },
 "nbformat": 4,
 "nbformat_minor": 0
}
