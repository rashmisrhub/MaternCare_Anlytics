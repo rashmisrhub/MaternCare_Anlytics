{
 "cells": [
  {
   "cell_type": "markdown",
   "metadata": {
    "application/vnd.databricks.v1+cell": {
     "cellMetadata": {},
     "inputWidgets": {},
     "nuid": "91d5e724-7a6b-4ed4-b8a0-ddf403d7a91a",
     "showTitle": false,
     "tableResultSettingsMap": {},
     "title": ""
    }
   },
   "source": [
    "Create dimensions staging tables\n"
   ]
  },
  {
   "cell_type": "markdown",
   "metadata": {
    "application/vnd.databricks.v1+cell": {
     "cellMetadata": {},
     "inputWidgets": {},
     "nuid": "f3f42a30-c41b-48ae-81f4-49fd9a4713b6",
     "showTitle": false,
     "tableResultSettingsMap": {},
     "title": ""
    }
   },
   "source": [
    "Class Table"
   ]
  },
  {
   "cell_type": "code",
   "execution_count": 0,
   "metadata": {
    "application/vnd.databricks.v1+cell": {
     "cellMetadata": {
      "byteLimit": 2048000,
      "rowLimit": 10000
     },
     "inputWidgets": {},
     "nuid": "48d3545a-a448-40de-99a3-a77da6af1d3d",
     "showTitle": false,
     "tableResultSettingsMap": {},
     "title": ""
    }
   },
   "outputs": [],
   "source": [
    "/*Insert into Class Dimenstion table */\n",
    "INSERT INTO materncare_anlytics.silver.prams_class_dim_stage_7\n",
    "SELECT DISTINCT \n",
    "  substr(ClassId, 4) AS ClassNo,\n",
    "  ClassId,\n",
    "  Class,\n",
    "  current_timestamp(),\n",
    "  current_timestamp() \n",
    "FROM materncare_anlytics.silver.prams_data"
   ]
  },
  {
   "cell_type": "code",
   "execution_count": 0,
   "metadata": {
    "application/vnd.databricks.v1+cell": {
     "cellMetadata": {
      "byteLimit": 2048000,
      "rowLimit": 10000
     },
     "inputWidgets": {},
     "nuid": "a6178df8-4e08-424e-a9e6-0f1b7120f386",
     "showTitle": false,
     "tableResultSettingsMap": {},
     "title": ""
    }
   },
   "outputs": [],
   "source": [
    "/*Create Class Dimenstion table */\n",
    "USE CATALOG materncare_anlytics;\n",
    "CREATE OR REPLACE TABLE gold.prams_class_dim\n",
    "(\n",
    "  ClassNo INTEGER,\n",
    "  ClassId string,\n",
    "  Class string,\n",
    "  inserted_date TIMESTAMP,\n",
    "  updated_date TIMESTAMP\n",
    ")"
   ]
  },
  {
   "cell_type": "code",
   "execution_count": 0,
   "metadata": {
    "application/vnd.databricks.v1+cell": {
     "cellMetadata": {
      "byteLimit": 2048000,
      "rowLimit": 10000
     },
     "inputWidgets": {},
     "nuid": "f79e5e9b-093c-433e-8085-47b256b90685",
     "showTitle": false,
     "tableResultSettingsMap": {},
     "title": ""
    }
   },
   "outputs": [],
   "source": [
    "/*Insert into Class Dimenstion table */\n",
    "INSERT INTO materncare_anlytics.gold.prams_class_dim\n",
    "SELECT *\n",
    "FROM materncare_anlytics.silver.prams_class_dim_stage_7\n",
    "ORDER BY ClassNo ASC"
   ]
  },
  {
   "cell_type": "code",
   "execution_count": 0,
   "metadata": {
    "application/vnd.databricks.v1+cell": {
     "cellMetadata": {
      "byteLimit": 2048000,
      "rowLimit": 10000
     },
     "inputWidgets": {},
     "nuid": "0ae0c7aa-753e-44f1-8221-ca8df3ab9f82",
     "showTitle": false,
     "tableResultSettingsMap": {},
     "title": ""
    }
   },
   "outputs": [],
   "source": [
    "USE CATALOG materncare_anlytics;\n",
    "CREATE OR REPLACE TABLE silver.prams_topic_dim_stage_8\n",
    "(\n",
    "  Topicno INTEGER,\n",
    "  TopicId string,\n",
    "  Topic string,\n",
    "  inserted_date TIMESTAMP,\n",
    "  updated_date TIMESTAMP\n",
    ")"
   ]
  },
  {
   "cell_type": "code",
   "execution_count": 0,
   "metadata": {
    "application/vnd.databricks.v1+cell": {
     "cellMetadata": {
      "byteLimit": 2048000,
      "rowLimit": 10000
     },
     "inputWidgets": {},
     "nuid": "84b39239-b3d0-499b-910a-90a0f7a9cc93",
     "showTitle": false,
     "tableResultSettingsMap": {},
     "title": ""
    }
   },
   "outputs": [],
   "source": [
    "/*Insert data Topic Dimenstion table */\n",
    "INSERT INTO silver.prams_topic_dim_stage_8\n",
    "SELECT DISTINCT \n",
    "  substr(TopicId, 4) AS Topicno,\n",
    "  TopicId,\n",
    "  Topic,\n",
    "  current_timestamp(),\n",
    "  current_timestamp() \n",
    "FROM materncare_anlytics.silver.prams_data"
   ]
  },
  {
   "cell_type": "code",
   "execution_count": 0,
   "metadata": {
    "application/vnd.databricks.v1+cell": {
     "cellMetadata": {
      "byteLimit": 2048000,
      "rowLimit": 10000
     },
     "inputWidgets": {},
     "nuid": "77dc0dda-694e-4d5e-8292-7f4d6df8b94e",
     "showTitle": false,
     "tableResultSettingsMap": {},
     "title": ""
    }
   },
   "outputs": [],
   "source": [
    "/*Create Topic Dimenstion table */\n",
    "USE CATALOG materncare_anlytics;\n",
    "CREATE OR REPLACE TABLE gold.prams_topic_dim\n",
    "(\n",
    "  Topicno INTEGER,\n",
    "  TopicId string,\n",
    "  Topic string,\n",
    "  inserted_date TIMESTAMP,\n",
    "  updated_date TIMESTAMP\n",
    ")"
   ]
  },
  {
   "cell_type": "code",
   "execution_count": 0,
   "metadata": {
    "application/vnd.databricks.v1+cell": {
     "cellMetadata": {
      "byteLimit": 2048000,
      "rowLimit": 10000
     },
     "inputWidgets": {},
     "nuid": "adbfbe8b-e806-4a0c-ae12-6b8733e2d119",
     "showTitle": false,
     "tableResultSettingsMap": {},
     "title": ""
    }
   },
   "outputs": [],
   "source": [
    "/*Insert data Topic Dimenstion table */\n",
    "INSERT INTO materncare_anlytics.gold.prams_topic_dim\n",
    "SELECT * FROM silver.prams_topic_dim_stage_8\n",
    "ORDER BY Topicno ASC"
   ]
  },
  {
   "cell_type": "code",
   "execution_count": 0,
   "metadata": {
    "application/vnd.databricks.v1+cell": {
     "cellMetadata": {
      "byteLimit": 2048000,
      "rowLimit": 10000
     },
     "inputWidgets": {},
     "nuid": "22e242b7-3f31-49ca-8f43-e0c2b84b64ca",
     "showTitle": false,
     "tableResultSettingsMap": {},
     "title": ""
    }
   },
   "outputs": [],
   "source": [
    "/*Create Class Dimenstion table */\n",
    "USE CATALOG materncare_anlytics;\n",
    "CREATE OR REPLACE TABLE silver.prams_response_dim_stage_9\n",
    "(\n",
    "  responseno INTEGER,\n",
    "  responseid string,\n",
    "  response string,  \n",
    "  inserted_date TIMESTAMP,\n",
    "  updated_date TIMESTAMP\n",
    ")"
   ]
  },
  {
   "cell_type": "code",
   "execution_count": 0,
   "metadata": {
    "application/vnd.databricks.v1+cell": {
     "cellMetadata": {
      "byteLimit": 2048000,
      "rowLimit": 10000
     },
     "inputWidgets": {},
     "nuid": "9501e071-2c6c-496b-80a7-1761c3ed08a1",
     "showTitle": false,
     "tableResultSettingsMap": {},
     "title": ""
    }
   },
   "outputs": [],
   "source": [
    "insert into materncare_anlytics.silver.prams_response_dim_stage_9\n",
    "select distinct substr(responseid, 4) as responseno, responseid, response, current_timestamp(), current_timestamp() from materncare_anlytics.silver.prams_data"
   ]
  },
  {
   "cell_type": "code",
   "execution_count": 0,
   "metadata": {
    "application/vnd.databricks.v1+cell": {
     "cellMetadata": {
      "byteLimit": 2048000,
      "rowLimit": 10000
     },
     "inputWidgets": {},
     "nuid": "38fb27e4-c8d4-4bb7-b0a6-15f40003bddd",
     "showTitle": false,
     "tableResultSettingsMap": {},
     "title": ""
    }
   },
   "outputs": [],
   "source": [
    "/*Create Class Dimenstion table */\n",
    "USE CATALOG materncare_anlytics;\n",
    "CREATE OR REPLACE TABLE gold.prams_response_dim\n",
    "(\n",
    "  responseno INTEGER,\n",
    "  responseid string,\n",
    "  response string,  \n",
    "  inserted_date TIMESTAMP,\n",
    "  updated_date TIMESTAMP\n",
    ")"
   ]
  },
  {
   "cell_type": "code",
   "execution_count": 0,
   "metadata": {
    "application/vnd.databricks.v1+cell": {
     "cellMetadata": {
      "byteLimit": 2048000,
      "rowLimit": 10000
     },
     "inputWidgets": {},
     "nuid": "db73a7b7-7c7e-41cd-a8f5-83a4082de61f",
     "showTitle": false,
     "tableResultSettingsMap": {},
     "title": ""
    }
   },
   "outputs": [],
   "source": [
    "insert into materncare_anlytics.gold.prams_response_dim\n",
    "select * from materncare_anlytics.silver.prams_response_dim_stage_9\n",
    "order by responseno ASC"
   ]
  },
  {
   "cell_type": "code",
   "execution_count": 0,
   "metadata": {
    "application/vnd.databricks.v1+cell": {
     "cellMetadata": {
      "byteLimit": 2048000,
      "rowLimit": 10000
     },
     "inputWidgets": {},
     "nuid": "7c6870ff-c0c5-4bd2-96ec-f009e093c29f",
     "showTitle": false,
     "tableResultSettingsMap": {},
     "title": ""
    }
   },
   "outputs": [],
   "source": [
    "select distinct BreakOutCategoryid,Break_Out_Category from materncare_anlytics.silver.prams_data"
   ]
  },
  {
   "cell_type": "code",
   "execution_count": 0,
   "metadata": {
    "application/vnd.databricks.v1+cell": {
     "cellMetadata": {
      "byteLimit": 2048000,
      "rowLimit": 10000
     },
     "inputWidgets": {},
     "nuid": "3bff1be4-19f0-40f6-90c5-674b42abec3f",
     "showTitle": false,
     "tableResultSettingsMap": {},
     "title": ""
    }
   },
   "outputs": [],
   "source": [
    "USE CATALOG materncare_anlytics;\n",
    "CREATE OR REPLACE TABLE silver.prams_breakout_cat_dim_stage_10\n",
    "(\n",
    "  BreakOutCategoryno INTEGER,\n",
    "  BreakOutCategoryid string,\n",
    "  Break_Out_Category string,  \n",
    "  inserted_date TIMESTAMP,\n",
    "  updated_date TIMESTAMP\n",
    ")"
   ]
  },
  {
   "cell_type": "code",
   "execution_count": 0,
   "metadata": {
    "application/vnd.databricks.v1+cell": {
     "cellMetadata": {
      "byteLimit": 2048000,
      "rowLimit": 10000
     },
     "inputWidgets": {},
     "nuid": "20bbf201-b134-4591-afe0-5d0ade5d438d",
     "showTitle": false,
     "tableResultSettingsMap": {},
     "title": ""
    }
   },
   "outputs": [],
   "source": [
    "INSERT INTO materncare_anlytics.silver.prams_breakout_cat_dim_stage_10\n",
    "SELECT DISTINCT substr(BreakOutCategoryid, 4)       \n",
    ",BreakOutCategoryid       \n",
    ",Break_Out_Category       \n",
    ",current_timestamp()    \n",
    ",current_timestamp()\n",
    "FROM materncare_anlytics.silver.prams_data;\n",
    "\n"
   ]
  },
  {
   "cell_type": "code",
   "execution_count": 0,
   "metadata": {
    "application/vnd.databricks.v1+cell": {
     "cellMetadata": {
      "byteLimit": 2048000,
      "rowLimit": 10000
     },
     "inputWidgets": {},
     "nuid": "af839776-59bf-43e1-b858-e75ec4020d91",
     "showTitle": false,
     "tableResultSettingsMap": {},
     "title": ""
    }
   },
   "outputs": [],
   "source": [
    "DELETE FROM materncare_anlytics.silver.prams_breakout_cat_dim_stage_10\n",
    "WHERE breakOutCategoryno IS NULL"
   ]
  },
  {
   "cell_type": "code",
   "execution_count": 0,
   "metadata": {
    "application/vnd.databricks.v1+cell": {
     "cellMetadata": {
      "byteLimit": 2048000,
      "rowLimit": 10000
     },
     "inputWidgets": {},
     "nuid": "ddbe754d-7cff-422b-99f3-0b005acc7456",
     "showTitle": false,
     "tableResultSettingsMap": {},
     "title": ""
    }
   },
   "outputs": [],
   "source": [
    "USE CATALOG materncare_anlytics;\n",
    "CREATE OR REPLACE TABLE gold.prams_breakout_cat_dim\n",
    "(\n",
    "  BreakOutCategoryno INTEGER,\n",
    "  BreakOutCategoryid string,\n",
    "  Break_Out_Category string,  \n",
    "  inserted_date TIMESTAMP,\n",
    "  updated_date TIMESTAMP\n",
    ")"
   ]
  },
  {
   "cell_type": "code",
   "execution_count": 0,
   "metadata": {
    "application/vnd.databricks.v1+cell": {
     "cellMetadata": {
      "byteLimit": 2048000,
      "rowLimit": 10000
     },
     "inputWidgets": {},
     "nuid": "694188d2-22bb-4fa1-a550-673f56fa4607",
     "showTitle": false,
     "tableResultSettingsMap": {},
     "title": ""
    }
   },
   "outputs": [],
   "source": [
    "INSERT INTO materncare_anlytics.gold.prams_breakout_cat_dim\n",
    "SELECT * FROM materncare_anlytics.silver.prams_breakout_cat_dim_stage_10\n",
    "order by BreakOutCategoryno ASC;\n",
    "\n",
    "--select * from materncare_anlytics.gold.\n"
   ]
  },
  {
   "cell_type": "code",
   "execution_count": 0,
   "metadata": {
    "application/vnd.databricks.v1+cell": {
     "cellMetadata": {
      "byteLimit": 2048000,
      "rowLimit": 10000
     },
     "inputWidgets": {},
     "nuid": "9b3e7f20-b257-420d-9d23-ddf5afdfd4a8",
     "showTitle": false,
     "tableResultSettingsMap": {},
     "title": ""
    }
   },
   "outputs": [],
   "source": [
    "SELECT DISTINCT BreakOutid, Break_Out\n",
    "FROM materncare_anlytics.silver.prams_data"
   ]
  },
  {
   "cell_type": "code",
   "execution_count": 0,
   "metadata": {
    "application/vnd.databricks.v1+cell": {
     "cellMetadata": {
      "byteLimit": 2048000,
      "rowLimit": 10000
     },
     "inputWidgets": {},
     "nuid": "1fa2e87f-e453-40eb-8c1c-59de6d55dd00",
     "showTitle": false,
     "tableResultSettingsMap": {},
     "title": ""
    }
   },
   "outputs": [],
   "source": [
    "USE CATALOG materncare_anlytics;\n",
    "CREATE OR REPLACE TABLE silver.prams_breakout_dim_stage_11\n",
    "(\n",
    "  BreakOutno INTEGER,\n",
    "  BreakOutid string,\n",
    "  Break_Out string,  \n",
    "  inserted_date TIMESTAMP,\n",
    "  updated_date TIMESTAMP\n",
    ");\n",
    "\n",
    "\n"
   ]
  },
  {
   "cell_type": "code",
   "execution_count": 0,
   "metadata": {
    "application/vnd.databricks.v1+cell": {
     "cellMetadata": {
      "byteLimit": 2048000,
      "rowLimit": 10000
     },
     "inputWidgets": {},
     "nuid": "1a8a1f6e-8745-4a90-ad38-1d3d5e52c5f4",
     "showTitle": false,
     "tableResultSettingsMap": {},
     "title": ""
    }
   },
   "outputs": [],
   "source": [
    "INSERT INTO materncare_anlytics.silver.prams_breakout_dim_stage_11\n",
    "SELECT DISTINCT try_cast(substr(BreakOutid, 4) AS int) AS BreakOutno       \n",
    ",BreakOutid       \n",
    ",Break_Out       \n",
    ",current_timestamp()    \n",
    ",current_timestamp()\n",
    "FROM materncare_anlytics.silver.prams_data;\n",
    "\n",
    "--Select * from materncare_anlytics.silver.prams_breakout_dim_stage_11;\n",
    "\n",
    "\n"
   ]
  },
  {
   "cell_type": "code",
   "execution_count": 0,
   "metadata": {
    "application/vnd.databricks.v1+cell": {
     "cellMetadata": {
      "byteLimit": 2048000,
      "rowLimit": 10000
     },
     "inputWidgets": {},
     "nuid": "ca330eaf-2bed-444f-bbc9-9d7325149290",
     "showTitle": false,
     "tableResultSettingsMap": {},
     "title": ""
    }
   },
   "outputs": [],
   "source": [
    "USE CATALOG materncare_anlytics;\n",
    "CREATE OR REPLACE TABLE gold.prams_breakout_dim\n",
    "(\n",
    "  BreakOutno INTEGER,\n",
    "  BreakOutid string,\n",
    "  Break_Out string,  \n",
    "  inserted_date TIMESTAMP,\n",
    "  updated_date TIMESTAMP\n",
    ");\n",
    "\n",
    "INSERT INTO materncare_anlytics.gold.prams_breakout_dim\n",
    "SELECT * FROM materncare_anlytics.silver.prams_breakout_dim_stage_11\n",
    "order by BreakOutno ASC;\n",
    "\n"
   ]
  },
  {
   "cell_type": "code",
   "execution_count": 0,
   "metadata": {
    "application/vnd.databricks.v1+cell": {
     "cellMetadata": {
      "byteLimit": 2048000,
      "rowLimit": 10000
     },
     "inputWidgets": {},
     "nuid": "9c229771-ed7f-4cde-be06-bb54ba3b2e0a",
     "showTitle": false,
     "tableResultSettingsMap": {},
     "title": ""
    }
   },
   "outputs": [],
   "source": [
    "DELETE FROM materncare_anlytics.GOLD.prams_breakout_dim\n",
    "WHERE BreakOutid IS NULL\n"
   ]
  },
  {
   "cell_type": "code",
   "execution_count": 0,
   "metadata": {
    "application/vnd.databricks.v1+cell": {
     "cellMetadata": {},
     "inputWidgets": {},
     "nuid": "b40534cc-043b-4b9f-9035-9653497fa908",
     "showTitle": false,
     "tableResultSettingsMap": {},
     "title": ""
    }
   },
   "outputs": [],
   "source": []
  },
  {
   "cell_type": "code",
   "execution_count": 0,
   "metadata": {
    "application/vnd.databricks.v1+cell": {
     "cellMetadata": {
      "byteLimit": 2048000,
      "rowLimit": 10000
     },
     "inputWidgets": {},
     "nuid": "94dd59ba-9be9-472d-88d3-2b32518cbf38",
     "showTitle": false,
     "tableResultSettingsMap": {},
     "title": ""
    }
   },
   "outputs": [],
   "source": [
    "\n",
    "USE CATALOG materncare_anlytics;\n",
    "CREATE OR REPLACE TABLE gold.prams_location_dim\n",
    "(\n",
    "  locationAbbr string,\n",
    "  LocationDesc string,  \n",
    "  inserted_date TIMESTAMP,\n",
    "  updated_date TIMESTAMP\n",
    ");\n",
    "\n",
    "INSERT INTO materncare_anlytics.gold.prams_location_dim\n",
    "select distinct  locationAbbr,  LocationDesc, current_timestamp(), current_timestamp()\n",
    " from materncare_anlytics.silver.prams_data\n",
    " ORDER BY locationAbbr ASC;\n",
    "\n",
    "\n",
    "\n"
   ]
  },
  {
   "cell_type": "code",
   "execution_count": 0,
   "metadata": {
    "application/vnd.databricks.v1+cell": {
     "cellMetadata": {
      "byteLimit": 2048000,
      "rowLimit": 10000
     },
     "inputWidgets": {},
     "nuid": "357bf732-59b2-4a4d-8189-2fba42b9dfc5",
     "showTitle": false,
     "tableResultSettingsMap": {},
     "title": ""
    }
   },
   "outputs": [],
   "source": [
    "delete from materncare_anlytics.GOLD.prams_location_dim\n",
    "where locationAbbr=\"PRAMS Total\""
   ]
  },
  {
   "cell_type": "code",
   "execution_count": 0,
   "metadata": {
    "application/vnd.databricks.v1+cell": {
     "cellMetadata": {
      "byteLimit": 2048000,
      "rowLimit": 10000
     },
     "inputWidgets": {},
     "nuid": "301b87c9-4d49-44b5-9698-cfacd7a97b8d",
     "showTitle": false,
     "tableResultSettingsMap": {},
     "title": ""
    }
   },
   "outputs": [],
   "source": [
    "USE CATALOG materncare_anlytics;\n",
    "CREATE OR REPLACE TABLE gold.prams_Geolocation_dim\n",
    "(\n",
    "  LocationId STRING,\n",
    "   Geolocation STRING,  \n",
    "  inserted_date TIMESTAMP,\n",
    "  updated_date TIMESTAMP\n",
    ");\n",
    "\n",
    "INSERT INTO materncare_anlytics.gold.prams_Geolocation_dim\n",
    "select distinct  LocationId,  Geolocation, current_timestamp(), current_timestamp()\n",
    " from materncare_anlytics.silver.prams_data\n",
    " ORDER BY LocationId ASC;"
   ]
  },
  {
   "cell_type": "code",
   "execution_count": 0,
   "metadata": {
    "application/vnd.databricks.v1+cell": {
     "cellMetadata": {
      "byteLimit": 2048000,
      "rowLimit": 10000
     },
     "inputWidgets": {},
     "nuid": "dc4156db-010d-4f30-80ae-eddf7ba2e1af",
     "showTitle": false,
     "tableResultSettingsMap": {},
     "title": ""
    }
   },
   "outputs": [],
   "source": [
    "select * from materncare_anlytics.GOLD.prams_Geolocation_dim"
   ]
  }
 ],
 "metadata": {
  "application/vnd.databricks.v1+notebook": {
   "computePreferences": null,
   "dashboards": [],
   "environmentMetadata": {
    "base_environment": "",
    "environment_version": "2"
   },
   "inputWidgetPreferences": null,
   "language": "sql",
   "notebookMetadata": {
    "pythonIndentUnit": 4
   },
   "notebookName": "06_PRAMS_Transform_Staging_Tables",
   "widgets": {}
  },
  "language_info": {
   "name": "sql"
  }
 },
 "nbformat": 4,
 "nbformat_minor": 0
}
