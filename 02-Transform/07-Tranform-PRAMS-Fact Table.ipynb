{
 "cells": [
  {
   "cell_type": "markdown",
   "metadata": {
    "application/vnd.databricks.v1+cell": {
     "cellMetadata": {},
     "inputWidgets": {},
     "nuid": "f99f70d8-e71f-4db2-ad24-025d46eff9f1",
     "showTitle": false,
     "tableResultSettingsMap": {},
     "title": ""
    }
   },
   "source": [
    "transform and create Fact table (Pregnancy Risk Assesment Monitoring) in Gold layer to publish data for reporting"
   ]
  },
  {
   "cell_type": "code",
   "execution_count": 0,
   "metadata": {
    "application/vnd.databricks.v1+cell": {
     "cellMetadata": {
      "byteLimit": 2048000,
      "rowLimit": 10000
     },
     "inputWidgets": {},
     "nuid": "09ac94b3-ca31-470a-b9bf-d5c32230fdcc",
     "showTitle": false,
     "tableResultSettingsMap": {},
     "title": ""
    }
   },
   "outputs": [],
   "source": [
    "describe materncare_anlytics.silver.PRAMS_data_fact_stag_9"
   ]
  },
  {
   "cell_type": "code",
   "execution_count": 0,
   "metadata": {
    "application/vnd.databricks.v1+cell": {
     "cellMetadata": {
      "byteLimit": 2048000,
      "rowLimit": 10000
     },
     "inputWidgets": {},
     "nuid": "a2f5d5ec-cd24-4db7-8ef9-d2a0ef3f8643",
     "showTitle": false,
     "tableResultSettingsMap": {},
     "title": ""
    }
   },
   "outputs": [],
   "source": [
    "INSERT INTO materncare_anlytics.silver.PRAMS_data_fact_stag_9\n",
    "SELECT DISTINCT\n",
    "index, \n",
    "Year, \n",
    "LocationAbbr, \n",
    "ClassId, \n",
    "TopicId, \n",
    "QuestionId, \n",
    "ResponseId, \n",
    "CAST(Data_Value AS DECIMAL(10, 2)) AS Data_Value,\n",
    "Data_Value_Footnote_Symbol, \n",
    "Data_Value_Footnote, \n",
    "CAST(Low_Confidence_Limit AS DECIMAL(10, 2)) as Low_Confidence_Limit,\n",
    "CAST(High_Confidence_Limit AS DECIMAL(10, 2)) AS High_Confidence_Limit,\n",
    "Sample_Size,\n",
    "BreakOutId,\n",
    "BreakOutCategoryid,\n",
    "source_file_load_date,\n",
    "current_timestamp() as created_date,\n",
    "current_timestamp() as updated_date\n",
    " FROM materncare_anlytics.silver.prams_data\n",
    " ORDER BY index asc\n",
    "  "
   ]
  },
  {
   "cell_type": "code",
   "execution_count": 0,
   "metadata": {
    "application/vnd.databricks.v1+cell": {
     "cellMetadata": {
      "byteLimit": 2048000,
      "rowLimit": 10000
     },
     "inputWidgets": {},
     "nuid": "09eaa2f4-2432-4860-8c1d-9c109a0c8263",
     "showTitle": false,
     "tableResultSettingsMap": {},
     "title": ""
    }
   },
   "outputs": [],
   "source": [
    "USE CATALOG materncare_anlytics;\n",
    "\n",
    "CREATE SCHEMA IF NOT EXISTS gold;\n",
    "CREATE OR REPLACE TABLE  gold.PRAMS_data_fact(\n",
    "  index BIGINT,\n",
    "  Year INT,\n",
    "  LocationAbbr STRING,\n",
    "  ClassId STRING,\n",
    "  TopicId STRING,\n",
    "  QuestionId STRING,\n",
    "  ResponseId STRING,\n",
    "  Data_Value_percent DECIMAL(10,2),\n",
    "  Data_Value_Footnote_Symbol STRING,\n",
    "  Data_Value_Footnote STRING,\n",
    "  Low_Confidence_Limit DECIMAL(10,2),\n",
    "  High_Confidence_Limit DECIMAL(10,2),\n",
    "  Sample_Size DECIMAL(10,2),\n",
    "  BreakOutId STRING,\n",
    "  BreakOutCategoryid STRING,\n",
    "  source_file_load_date TIMESTAMP,\n",
    "  created_date TIMESTAMP,\n",
    "  updated_date TIMESTAMP\n",
    ")"
   ]
  },
  {
   "cell_type": "code",
   "execution_count": 0,
   "metadata": {
    "application/vnd.databricks.v1+cell": {
     "cellMetadata": {
      "byteLimit": 2048000,
      "rowLimit": 10000
     },
     "inputWidgets": {},
     "nuid": "3ebc4c3a-8568-4878-a436-dbb73b4efcac",
     "showTitle": false,
     "tableResultSettingsMap": {},
     "title": ""
    }
   },
   "outputs": [],
   "source": [
    "truncate table materncare_anlytics.gold.PRAMS_data_fact"
   ]
  },
  {
   "cell_type": "code",
   "execution_count": 0,
   "metadata": {
    "application/vnd.databricks.v1+cell": {
     "cellMetadata": {
      "byteLimit": 2048000,
      "rowLimit": 10000
     },
     "inputWidgets": {},
     "nuid": "ea2fb39a-2385-4b0b-9767-5dfe3987998c",
     "showTitle": false,
     "tableResultSettingsMap": {},
     "title": ""
    }
   },
   "outputs": [],
   "source": [
    "insert into materncare_anlytics.gold.PRAMS_data_fact\n",
    "select * from materncare_anlytics.silver.PRAMS_data_fact_stag_9\n",
    "order by index asc\n",
    "--select * from materncare_anlytics.gold.PRAMS_data_fact"
   ]
  }
 ],
 "metadata": {
  "application/vnd.databricks.v1+notebook": {
   "computePreferences": null,
   "dashboards": [],
   "environmentMetadata": {
    "base_environment": "",
    "environment_version": "2"
   },
   "inputWidgetPreferences": null,
   "language": "sql",
   "notebookMetadata": {
    "pythonIndentUnit": 4
   },
   "notebookName": "07-Tranform-PRAMS-Fact Table",
   "widgets": {}
  },
  "language_info": {
   "name": "sql"
  }
 },
 "nbformat": 4,
 "nbformat_minor": 0
}
