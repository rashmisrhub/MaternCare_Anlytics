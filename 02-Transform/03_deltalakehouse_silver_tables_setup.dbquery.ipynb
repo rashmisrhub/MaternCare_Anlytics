{
 "cells": [
  {
   "cell_type": "code",
   "execution_count": 0,
   "metadata": {
    "application/vnd.databricks.v1+cell": {
     "cellMetadata": {},
     "inputWidgets": {},
     "nuid": "3ee2d7f9-f1c9-4c4d-9946-af96b89b603c",
     "showTitle": false,
     "tableResultSettingsMap": {},
     "title": ""
    }
   },
   "outputs": [],
   "source": [
    "USE CATALOG materncare_anlytics;\n",
    "CREATE SCHEMA IF NOT EXISTS silver;\n",
    "CREATE OR REPLACE TABLE silver.matern_health_hospital_data\n",
    "(\n",
    "Facility_ID BIGINTINT,\n",
    "Facility_Name STRING,\n",
    "Address STRING,\n",
    "City_Town STRING,\n",
    "State STRING,\n",
    "ZIP_Code INT,\n",
    "County_Parish STRING ,\n",
    "Telephone_Number STRING,\n",
    "Measure_ID STRING ,\n",
    "Measure_Name STRING,\n",
    "Score STRING,\n",
    "Sample STRING,\n",
    "Footnote INT,\n",
    "Start_Date DATE,\n",
    "End_Date DATE,\n",
    "source_file_load_date TIMESTAMP\n",
    ") "
   ]
  }
 ],
 "metadata": {
  "application/vnd.databricks.v1+notebook": {
   "computePreferences": null,
   "dashboards": [],
   "environmentMetadata": null,
   "inputWidgetPreferences": null,
   "language": "sql",
   "notebookMetadata": {
    "pythonIndentUnit": 4,
    "sqlQueryOptions": {
     "applyAutoLimit": true,
     "catalog": "materncare_anlytics",
     "schema": "default"
    }
   },
   "notebookName": "03_deltalakehouse_silver_tables_setup.dbquery.ipynb",
   "widgets": {}
  },
  "language_info": {
   "name": "sql"
  }
 },
 "nbformat": 4,
 "nbformat_minor": 0
}
