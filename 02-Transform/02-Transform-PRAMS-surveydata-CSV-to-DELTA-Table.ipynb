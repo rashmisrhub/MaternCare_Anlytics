{
 "cells": [
  {
   "cell_type": "markdown",
   "metadata": {
    "application/vnd.databricks.v1+cell": {
     "cellMetadata": {
      "byteLimit": 2048000,
      "rowLimit": 10000
     },
     "inputWidgets": {},
     "nuid": "0abfca51-dee6-4417-9192-ba422226beda",
     "showTitle": false,
     "tableResultSettingsMap": {},
     "title": ""
    }
   },
   "source": [
    "Maternal Health Measures\n",
    "|Description|\n",
    "|-|\n",
    "The Centers for Disease Control and Prevention (CDC) is proud to present PRAMS, the Pregnancy Risk Assessment Monitoring System. This survey provides valuable insights and analysis on maternal health, mindset, and experiences pre-pregnancy through postpartum phase. Statistically representative data is gathered from mothers all over the United States concerning issues such as abuse, alcohol use, contraception, breastfeeding, mental health, obesity and many more."
   ]
  },
  {
   "cell_type": "markdown",
   "metadata": {
    "application/vnd.databricks.v1+cell": {
     "cellMetadata": {},
     "inputWidgets": {},
     "nuid": "f5c1eb2b-75e8-4441-8376-b9df48ae6c6e",
     "showTitle": false,
     "tableResultSettingsMap": {},
     "title": ""
    }
   },
   "source": [
    "|Column name | Description| Data Type| \n",
    "|--|--|--|\n",
    "Year|\tYear of the survey|Integer\n",
    "LocationAbbr|\tAbbreviation of the state or location surveyed. |String\n",
    "LocationDesc|\tDescription of the state or location surveyed. |String\n",
    "Class|\tType of survey question. |String\n",
    "Topic\t|Topic of the survey question. |String\n",
    "Question|\tThe survey question. |String\n",
    "DataSource|\tSource of the survey data.| String\n",
    "Response|\tResponse to the survey question. |String\n",
    "Data_Value_Unit\t|Unit of the data value. |String\n",
    "Data_Value_Type\t|Type of data value.| String\n",
    "Data_Value_Footnote_Symbol|\tSymbol for the footnote of the data value. |String\n",
    "Data_Value_Std_Err|\tStandard error of the data value. |Float\n",
    "Sample_Size|\tSample size of the survey. |Integer\n",
    "Break_Out\t|Break out of the survey. |String\n",
    "Break_Out_Category|\tCategory of the break out. |String\n",
    "Geolocation|\tGeolocation of the survey. |String"
   ]
  },
  {
   "cell_type": "code",
   "execution_count": 0,
   "metadata": {
    "application/vnd.databricks.v1+cell": {
     "cellMetadata": {
      "byteLimit": 2048000,
      "rowLimit": 10000
     },
     "inputWidgets": {},
     "nuid": "11326026-d3d0-4823-b85f-f482028c2167",
     "showTitle": false,
     "tableResultSettingsMap": {},
     "title": ""
    }
   },
   "outputs": [],
   "source": [
    "SELECT COUNT(*) FROM materncare_anlytics.bronze.prams_data"
   ]
  },
  {
   "cell_type": "code",
   "execution_count": 0,
   "metadata": {
    "application/vnd.databricks.v1+cell": {
     "cellMetadata": {
      "byteLimit": 2048000,
      "rowLimit": 10000
     },
     "inputWidgets": {},
     "nuid": "d99aaa30-1209-4dce-abcb-496fd69a8eb4",
     "showTitle": false,
     "tableResultSettingsMap": {},
     "title": ""
    }
   },
   "outputs": [],
   "source": [
    "DESCRIBE  materncare_anlytics.bronze.prams_data"
   ]
  },
  {
   "cell_type": "code",
   "execution_count": 0,
   "metadata": {
    "application/vnd.databricks.v1+cell": {
     "cellMetadata": {
      "byteLimit": 2048000,
      "rowLimit": 10000
     },
     "inputWidgets": {},
     "nuid": "9fe755c5-0402-40a1-8812-a6495b29b5c3",
     "showTitle": false,
     "tableResultSettingsMap": {},
     "title": ""
    }
   },
   "outputs": [],
   "source": [
    "USE CATALOG materncare_anlytics;\n",
    "CREATE SCHEMA IF NOT EXISTS silver;\n",
    "DROP TABLE IF EXISTS silver.PRAMS_data; \n",
    "CREATE OR REPLACE TABLE PRAMS_data\n",
    "(\n",
    "  index BIGINT,\n",
    "  Year INT,\n",
    "  LocationAbbr STRING,\n",
    "  LocationDesc STRING,\n",
    "  Class STRING,\n",
    "  Topic STRING,\n",
    "  Question STRING,\n",
    "  DataSource STRING,\n",
    "  Response STRING,\n",
    "  Data_Value_Unit STRING,\n",
    "  Data_Value_Type STRING,\n",
    "  Data_Value FLOAT,\n",
    "  Data_Value_Footnote_Symbol STRING,\n",
    "  Data_Value_Footnote STRING,\n",
    "  Low_Confidence_Limit FLOAT,\n",
    "  High_Confidence_Limit FLOAT,\n",
    "  Sample_Size FLOAT,\n",
    "  Break_Out STRING,\n",
    "  Break_Out_Category STRING,\n",
    "  Geolocation STRING,\n",
    "  ClassId STRING,\n",
    "  TopicId STRING,\n",
    "  QuestionId STRING,\n",
    "  LocationId STRING,\n",
    "  BreakOutId STRING,\n",
    "  BreakOutCategoryid STRING,\n",
    "  ResponseId STRING,\n",
    "  source_file_load_date TIMESTAMP,\n",
    "  lakehouse_inserted_date TIMESTAMP,\n",
    "  lakehouse_updates_dates TIMESTAMP\n",
    ") "
   ]
  },
  {
   "cell_type": "code",
   "execution_count": 0,
   "metadata": {
    "application/vnd.databricks.v1+cell": {
     "cellMetadata": {
      "byteLimit": 2048000,
      "rowLimit": 10000
     },
     "inputWidgets": {},
     "nuid": "24466c83-3d2b-4c1b-8d07-443fb64b12ff",
     "showTitle": false,
     "tableResultSettingsMap": {},
     "title": ""
    }
   },
   "outputs": [],
   "source": [
    "SELECT COUNT(*) FROM materncare_anlytics.silver.prams_data\n",
    "--SELECT * FROM materncare_anlytics.silver.prams_data\n",
    "\n",
    "--Truncate table materncare_anlytics.silver.matern_health_hospital_data"
   ]
  },
  {
   "cell_type": "code",
   "execution_count": 0,
   "metadata": {
    "application/vnd.databricks.v1+cell": {
     "cellMetadata": {
      "byteLimit": 2048000,
      "rowLimit": 10000
     },
     "inputWidgets": {},
     "nuid": "1e7e96ca-1fe5-40fc-a948-b8f523d7380c",
     "showTitle": false,
     "tableResultSettingsMap": {},
     "title": ""
    }
   },
   "outputs": [],
   "source": [
    "use catalog materncare_anlytics;\n",
    "insert into materncare_anlytics.silver.prams_data\n",
    "SELECT\n",
    "index ,\n",
    "  Year ,\n",
    "  LocationAbbr ,\n",
    "  LocationDesc ,\n",
    "  Class ,\n",
    "  Topic ,\n",
    "  Question ,\n",
    "  DataSource ,\n",
    "  Response ,\n",
    "  Data_Value_Unit ,\n",
    "  Data_Value_Type ,\n",
    "  Data_Value ,\n",
    "  Data_Value_Footnote_Symbol ,\n",
    "  Data_Value_Footnote ,\n",
    "  Low_Confidence_Limit ,\n",
    "  High_Confidence_Limit ,\n",
    "  Sample_Size ,\n",
    "  Break_Out ,\n",
    "  Break_Out_Category ,\n",
    "  Geolocation ,\n",
    "  ClassId ,\n",
    "  TopicId ,\n",
    "  QuestionId ,\n",
    "  LocationId ,\n",
    "  BreakOutId ,\n",
    "  BreakOutCategoryid ,\n",
    "  ResponseId ,\n",
    "  source_file_load_date,\n",
    "current_timestamp(),\n",
    "current_timestamp()\n",
    " FROM materncare_anlytics.bronze.prams_data"
   ]
  }
 ],
 "metadata": {
  "application/vnd.databricks.v1+notebook": {
   "computePreferences": null,
   "dashboards": [],
   "environmentMetadata": {
    "base_environment": "",
    "environment_version": "2"
   },
   "inputWidgetPreferences": null,
   "language": "sql",
   "notebookMetadata": {
    "pythonIndentUnit": 4
   },
   "notebookName": "02-Transform-PRAMS-surveydata-CSV-to-DELTA-Table",
   "widgets": {}
  },
  "language_info": {
   "name": "sql"
  }
 },
 "nbformat": 4,
 "nbformat_minor": 0
}
