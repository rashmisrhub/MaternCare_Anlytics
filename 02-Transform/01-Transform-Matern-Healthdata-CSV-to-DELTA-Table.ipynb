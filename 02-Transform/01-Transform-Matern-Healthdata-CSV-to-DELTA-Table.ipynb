{
 "cells": [
  {
   "cell_type": "code",
   "execution_count": 0,
   "metadata": {
    "application/vnd.databricks.v1+cell": {
     "cellMetadata": {
      "byteLimit": 2048000,
      "rowLimit": 10000
     },
     "inputWidgets": {},
     "nuid": "11326026-d3d0-4823-b85f-f482028c2167",
     "showTitle": false,
     "tableResultSettingsMap": {},
     "title": ""
    }
   },
   "outputs": [],
   "source": [
    "SELECT COUNT(*) FROM materncare_anlytics.bronze.matern_health_hospital_data"
   ]
  },
  {
   "cell_type": "code",
   "execution_count": 0,
   "metadata": {
    "application/vnd.databricks.v1+cell": {
     "cellMetadata": {
      "byteLimit": 2048000,
      "rowLimit": 10000
     },
     "inputWidgets": {},
     "nuid": "d99aaa30-1209-4dce-abcb-496fd69a8eb4",
     "showTitle": false,
     "tableResultSettingsMap": {},
     "title": ""
    }
   },
   "outputs": [],
   "source": [
    "DESCRIBE  materncare_anlytics.bronze.matern_health_hospital_data"
   ]
  },
  {
   "cell_type": "code",
   "execution_count": 0,
   "metadata": {
    "application/vnd.databricks.v1+cell": {
     "cellMetadata": {
      "byteLimit": 2048000,
      "rowLimit": 10000
     },
     "inputWidgets": {},
     "nuid": "f83f35ac-e11a-4ef0-98f3-69a049c4cb07",
     "showTitle": false,
     "tableResultSettingsMap": {},
     "title": ""
    }
   },
   "outputs": [],
   "source": [
    "SELECT\n",
    "Facility_ID,\n",
    "Facility_Name,\n",
    "Address,\n",
    "City_Town,\n",
    "State,\n",
    "ZIP_Code,\n",
    "County_Parish,\n",
    "Telephone_Number,\n",
    "Measure_ID,\n",
    "Measure_Name,\n",
    "Score,\n",
    "Sample,\n",
    "Footnote,\n",
    "Start_Date,\n",
    "End_Date,\n",
    "source_file_load_date\n",
    " FROM materncare_anlytics.bronze.matern_health_hospital_data LIMIT 10\n",
    " "
   ]
  },
  {
   "cell_type": "code",
   "execution_count": 0,
   "metadata": {
    "application/vnd.databricks.v1+cell": {
     "cellMetadata": {
      "byteLimit": 2048000,
      "rowLimit": 10000
     },
     "inputWidgets": {},
     "nuid": "9fe755c5-0402-40a1-8812-a6495b29b5c3",
     "showTitle": false,
     "tableResultSettingsMap": {},
     "title": ""
    }
   },
   "outputs": [],
   "source": [
    "USE CATALOG materncare_anlytics;\n",
    "CREATE SCHEMA IF NOT EXISTS silver;\n",
    "CREATE OR REPLACE TABLE silver.matern_health_hospital_data\n",
    "(\n",
    "Facility_ID BIGINT,\n",
    "Facility_Name STRING,\n",
    "Address STRING,\n",
    "City_Town STRING,\n",
    "State STRING,\n",
    "ZIP_Code INT,\n",
    "County_Parish STRING ,\n",
    "Telephone_Number STRING,\n",
    "Measure_ID STRING ,\n",
    "Measure_Name STRING,\n",
    "Score STRING,\n",
    "Sample STRING,\n",
    "Footnote INT,\n",
    "Start_Date DATE,\n",
    "End_Date DATE,\n",
    "source_file_load_date TIMESTAMP,\n",
    "lakehouse_inserted_date TIMESTAMP,\n",
    "lakehouse_updates_dates TIMESTAMP\n",
    ") "
   ]
  },
  {
   "cell_type": "code",
   "execution_count": 0,
   "metadata": {
    "application/vnd.databricks.v1+cell": {
     "cellMetadata": {
      "byteLimit": 2048000,
      "rowLimit": 10000
     },
     "inputWidgets": {},
     "nuid": "341b181e-bc03-4fa8-aeb8-4aad20d2e50e",
     "showTitle": false,
     "tableResultSettingsMap": {},
     "title": ""
    }
   },
   "outputs": [],
   "source": [
    "describe materncare_anlytics.silver.matern_health_hospital_data"
   ]
  },
  {
   "cell_type": "code",
   "execution_count": 0,
   "metadata": {
    "application/vnd.databricks.v1+cell": {
     "cellMetadata": {
      "byteLimit": 2048000,
      "rowLimit": 10000
     },
     "inputWidgets": {},
     "nuid": "1e7e96ca-1fe5-40fc-a948-b8f523d7380c",
     "showTitle": false,
     "tableResultSettingsMap": {},
     "title": ""
    }
   },
   "outputs": [],
   "source": [
    "use catalog materncare_anlytics;\n",
    "insert into materncare_anlytics.silver.matern_health_hospital_data\n",
    "SELECT\n",
    "cast (Facility_ID as BIGINT),\n",
    "Facility_Name,\n",
    "Address,\n",
    "City_Town,\n",
    "State,\n",
    "cast(ZIP_Code as int),\n",
    "County_Parish,\n",
    "Telephone_Number,\n",
    "Measure_ID,\n",
    "Measure_Name,\n",
    "Score,\n",
    "Sample,\n",
    "cast(Footnote as int),\n",
    "to_date(Start_Date,'MM/dd/yyyy'),\n",
    "to_date(End_Date,'MM/dd/yyyy'),\n",
    "source_file_load_date,\n",
    "current_timestamp(),\n",
    "current_timestamp()\n",
    " FROM materncare_anlytics.bronze.matern_health_hospital_data"
   ]
  }
 ],
 "metadata": {
  "application/vnd.databricks.v1+notebook": {
   "computePreferences": null,
   "dashboards": [],
   "environmentMetadata": {
    "base_environment": "",
    "environment_version": "2"
   },
   "inputWidgetPreferences": null,
   "language": "sql",
   "notebookMetadata": {
    "pythonIndentUnit": 4
   },
   "notebookName": "01-Transform-Matern-Healthdata-CSV-to-DELTA-Table",
   "widgets": {}
  },
  "language_info": {
   "name": "sql"
  }
 },
 "nbformat": 4,
 "nbformat_minor": 0
}
