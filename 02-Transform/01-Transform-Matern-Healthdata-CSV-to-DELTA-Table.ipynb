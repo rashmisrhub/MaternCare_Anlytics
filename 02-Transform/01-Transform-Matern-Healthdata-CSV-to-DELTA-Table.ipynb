{
 "cells": [
  {
   "cell_type": "markdown",
   "metadata": {
    "application/vnd.databricks.v1+cell": {
     "cellMetadata": {
      "byteLimit": 2048000,
      "rowLimit": 10000
     },
     "inputWidgets": {},
     "nuid": "0abfca51-dee6-4417-9192-ba422226beda",
     "showTitle": false,
     "tableResultSettingsMap": {},
     "title": ""
    }
   },
   "source": [
    "Maternal Health Measures\n",
    "|Description|\n",
    "|-|\n",
    "These measures are intended to drive improvements in maternal health. By providing care to pregnant women that follows best practices that advance health care quality, safety, and equity, hospitals and doctors can improve chances for a safe delivery and a healthy baby.\n",
    "Reporting Cycle\n",
    "Collection period: 12 months. Refreshed annually."
   ]
  },
  {
   "cell_type": "code",
   "execution_count": 0,
   "metadata": {
    "application/vnd.databricks.v1+cell": {
     "cellMetadata": {
      "byteLimit": 2048000,
      "rowLimit": 10000
     },
     "inputWidgets": {},
     "nuid": "11326026-d3d0-4823-b85f-f482028c2167",
     "showTitle": false,
     "tableResultSettingsMap": {},
     "title": ""
    }
   },
   "outputs": [],
   "source": [
    "SELECT COUNT(*) FROM materncare_anlytics.bronze.matern_health_hospital_data"
   ]
  },
  {
   "cell_type": "code",
   "execution_count": 0,
   "metadata": {
    "application/vnd.databricks.v1+cell": {
     "cellMetadata": {
      "byteLimit": 2048000,
      "rowLimit": 10000
     },
     "inputWidgets": {},
     "nuid": "d99aaa30-1209-4dce-abcb-496fd69a8eb4",
     "showTitle": false,
     "tableResultSettingsMap": {},
     "title": ""
    }
   },
   "outputs": [],
   "source": [
    "DESCRIBE  materncare_anlytics.bronze.matern_health_hospital_data"
   ]
  },
  {
   "cell_type": "code",
   "execution_count": 0,
   "metadata": {
    "application/vnd.databricks.v1+cell": {
     "cellMetadata": {
      "byteLimit": 2048000,
      "rowLimit": 10000
     },
     "inputWidgets": {},
     "nuid": "f83f35ac-e11a-4ef0-98f3-69a049c4cb07",
     "showTitle": false,
     "tableResultSettingsMap": {},
     "title": ""
    }
   },
   "outputs": [],
   "source": [
    "SELECT\n",
    "Facility_ID,\n",
    "Facility_Name,\n",
    "Address,\n",
    "City_Town,\n",
    "State,\n",
    "ZIP_Code,\n",
    "County_Parish,\n",
    "Telephone_Number,\n",
    "Measure_ID,\n",
    "Measure_Name,\n",
    "Score,\n",
    "Sample,\n",
    "Footnote,\n",
    "Start_Date,\n",
    "End_Date,\n",
    "source_file_load_date\n",
    " FROM materncare_anlytics.bronze.matern_health_hospital_data LIMIT 10\n",
    " "
   ]
  },
  {
   "cell_type": "code",
   "execution_count": 0,
   "metadata": {
    "application/vnd.databricks.v1+cell": {
     "cellMetadata": {
      "byteLimit": 2048000,
      "rowLimit": 10000
     },
     "inputWidgets": {},
     "nuid": "9fe755c5-0402-40a1-8812-a6495b29b5c3",
     "showTitle": false,
     "tableResultSettingsMap": {},
     "title": ""
    }
   },
   "outputs": [],
   "source": [
    "USE CATALOG materncare_anlytics;\n",
    "CREATE SCHEMA IF NOT EXISTS silver;\n",
    "DROP TABLE IF EXISTS silver.matern_health_hospital_data; CREATE OR REPLACE TABLE silver.matern_health_hospital_data\n",
    "(\n",
    "Facility_ID CHAR(6),\n",
    "Facility_Name CHAR(72),\n",
    "Address CHAR(51),\n",
    "City_Town CHAR(30),\n",
    "State CHAR(2),\n",
    "ZIP_Code INT,\n",
    "County_Parish CHAR(25) ,\n",
    "Telephone_Number CHAR(14),\n",
    "Measure_ID CHAR(7) ,\n",
    "Measure_Name CHAR(85),\n",
    "Score CHAR(76),\n",
    "Sample CHAR(14),\n",
    "Footnote INT,\n",
    "Start_Date DATE,\n",
    "End_Date DATE,\n",
    "source_file_load_date TIMESTAMP,\n",
    "lakehouse_inserted_date TIMESTAMP,\n",
    "lakehouse_updates_dates TIMESTAMP\n",
    ") "
   ]
  },
  {
   "cell_type": "code",
   "execution_count": 0,
   "metadata": {
    "application/vnd.databricks.v1+cell": {
     "cellMetadata": {
      "byteLimit": 2048000,
      "rowLimit": 10000
     },
     "inputWidgets": {},
     "nuid": "341b181e-bc03-4fa8-aeb8-4aad20d2e50e",
     "showTitle": false,
     "tableResultSettingsMap": {},
     "title": ""
    }
   },
   "outputs": [],
   "source": [
    "describe materncare_anlytics.silver.matern_health_hospital_data"
   ]
  },
  {
   "cell_type": "code",
   "execution_count": 0,
   "metadata": {
    "application/vnd.databricks.v1+cell": {
     "cellMetadata": {
      "byteLimit": 2048000,
      "rowLimit": 10000
     },
     "inputWidgets": {},
     "nuid": "1e7e96ca-1fe5-40fc-a948-b8f523d7380c",
     "showTitle": false,
     "tableResultSettingsMap": {},
     "title": ""
    }
   },
   "outputs": [],
   "source": [
    "use catalog materncare_anlytics;\n",
    "insert into materncare_anlytics.silver.matern_health_hospital_data\n",
    "SELECT\n",
    "TRIM(Facility_ID),\n",
    "TRIM(Facility_Name),\n",
    "Address,\n",
    "TRIM(City_Town),\n",
    "State,\n",
    "cast(ZIP_Code as int),\n",
    "County_Parish,\n",
    "Telephone_Number,\n",
    "Measure_ID,\n",
    "Measure_Name,\n",
    "Score,\n",
    "Sample,\n",
    "cast(Footnote as int),\n",
    "to_date(Start_Date,'MM/dd/yyyy'),\n",
    "to_date(End_Date,'MM/dd/yyyy'),\n",
    "source_file_load_date,\n",
    "current_timestamp(),\n",
    "current_timestamp()\n",
    " FROM materncare_anlytics.bronze.matern_health_hospital_data"
   ]
  }
 ],
 "metadata": {
  "application/vnd.databricks.v1+notebook": {
   "computePreferences": null,
   "dashboards": [],
   "environmentMetadata": {
    "base_environment": "",
    "environment_version": "2"
   },
   "inputWidgetPreferences": null,
   "language": "sql",
   "notebookMetadata": {
    "pythonIndentUnit": 4
   },
   "notebookName": "01-Transform-Matern-Healthdata-CSV-to-DELTA-Table",
   "widgets": {}
  },
  "language_info": {
   "name": "sql"
  }
 },
 "nbformat": 4,
 "nbformat_minor": 0
}
