{
 "cells": [
  {
   "cell_type": "markdown",
   "metadata": {
    "application/vnd.databricks.v1+cell": {
     "cellMetadata": {},
     "inputWidgets": {},
     "nuid": "94f6765b-4736-457e-add1-bfdb9c6d59b1",
     "showTitle": false,
     "tableResultSettingsMap": {},
     "title": ""
    }
   },
   "source": [
    "| Measure ID | Measure Name |\n",
    "| --- | --- |\n",
    "| ePC-02 |The rate of nulliparous women with a term, singleton baby in a vertex position delivered by C-section birth  |\n",
    "ePC-07a | Rate of any serious complications for mothers during delivery (per 10,000 deliveries) |\n",
    "ePC-07b | Rate of serious complications (excluding blood transfusions) for mothers during delivery (per 10,000 deliveries) |\n",
    "PC-05 |Percentage of newborns that were exclusively fed breastmilk during the entire hospitalization |\n",
    "SM-7 | Assesses whether or not a hospital participates in a Statewide or National Perinatal Quality Improvement (QI) Collaborative Initiative\n"
   ]
  },
  {
   "cell_type": "code",
   "execution_count": 0,
   "metadata": {
    "application/vnd.databricks.v1+cell": {
     "cellMetadata": {},
     "inputWidgets": {},
     "nuid": "cffe9007-35ea-4270-97d0-93744562b4d3",
     "showTitle": false,
     "tableResultSettingsMap": {},
     "title": ""
    }
   },
   "outputs": [],
   "source": []
  },
  {
   "cell_type": "markdown",
   "metadata": {
    "application/vnd.databricks.v1+cell": {
     "cellMetadata": {},
     "inputWidgets": {},
     "nuid": "18832016-4158-4fc5-bc19-a38d54bdab66",
     "showTitle": false,
     "tableResultSettingsMap": {},
     "title": ""
    }
   },
   "source": [
    "%md\n",
    "| SOURCE_TABLE_NAME | SOURCE_COLUMN_NAME | REPORTING_TABLE_NAME | REPORTING_COLUMN_NAME | TRANSFORMATION RULE | CONDITIONS |\n",
    "| --- | --- |--- | --- |--- |--- |\n",
    "| matern_health_hospital_data| state_name\t|***REPORTING_DIM_STATE_GOLD***\t|***STATE_NAME***\t| Select Unique state_name Values | Identify New/Changed Records From the Source Table . Use ***lakehouse_updated_date Column*** in source table to Identify New/Changed Records|\n",
    "| DERIVED\t| DERIVED\t|***REPORTING_DIM_STATE_GOLD***\t| ***STATE_ID***\t| Generate Running Sequnece ID For Each Unique state_name Values | 1. Make Sure No Duplicate State_Name Values Loaded 2.  When loading new State_Name values in subsquent run , STATE_ID values need to be generated on top of existing MAX(STATE_ID)   |\n",
    "| DERIVED\t| DERIVED\t|***REPORTING_DIM_STATE_GOLD***\t| ***lakehouse_inserted_date***\t| Load current_timestamp() | |\n",
    "| DERIVED\t| DERIVED\t|***REPORTING_DIM_STATE_GOLD***\t| ***lakehouse_updated_date***\t| Load current_timestamp() | |"
   ]
  },
  {
   "cell_type": "code",
   "execution_count": 0,
   "metadata": {
    "application/vnd.databricks.v1+cell": {
     "cellMetadata": {
      "byteLimit": 2048000,
      "rowLimit": 10000
     },
     "inputWidgets": {},
     "nuid": "43557046-31a3-440b-97ee-1f8e45114a19",
     "showTitle": false,
     "tableResultSettingsMap": {},
     "title": ""
    }
   },
   "outputs": [],
   "source": [
    "\n",
    "USE CATALOG materncare_anlytics;\n",
    "\n",
    "CREATE OR REPLACE TABLE silver.reporting_dim_state_stage_1 AS\n",
    "SELECT DISTINCT State FROM materncare_anlytics.silver.matern_health_hospital_data"
   ]
  },
  {
   "cell_type": "code",
   "execution_count": 0,
   "metadata": {
    "application/vnd.databricks.v1+cell": {
     "cellMetadata": {
      "byteLimit": 2048000,
      "rowLimit": 10000
     },
     "inputWidgets": {},
     "nuid": "ff124557-2601-448e-8633-d3d80b705ff1",
     "showTitle": false,
     "tableResultSettingsMap": {},
     "title": ""
    }
   },
   "outputs": [],
   "source": [
    "SELECT FACILITY_NAME, row_number() OVER (ORDER BY Facility_Name) AS FACILITY_COUNT FROM materncare_anlytics.silver.reporting_dim_state_stage_1 "
   ]
  },
  {
   "cell_type": "code",
   "execution_count": 0,
   "metadata": {
    "application/vnd.databricks.v1+cell": {
     "cellMetadata": {
      "byteLimit": 2048000,
      "rowLimit": 10000
     },
     "inputWidgets": {},
     "nuid": "c183ed8d-9a22-44a4-a2f6-1351fce47982",
     "showTitle": false,
     "tableResultSettingsMap": {},
     "title": ""
    }
   },
   "outputs": [],
   "source": [
    "SELECT DISTINCT Measure_Name, Measure_ID FROM materncare_anlytics.silver.matern_health_hospital_data"
   ]
  },
  {
   "cell_type": "markdown",
   "metadata": {
    "application/vnd.databricks.v1+cell": {
     "cellMetadata": {},
     "inputWidgets": {},
     "nuid": "5b755e22-93d5-4e50-9949-1969a02e60a4",
     "showTitle": false,
     "tableResultSettingsMap": {},
     "title": ""
    }
   },
   "source": [
    "REPORT 1: SHOW LIST OF MATERNITY HOSPITAL IN STATE NC\n",
    "\n"
   ]
  },
  {
   "cell_type": "code",
   "execution_count": 0,
   "metadata": {
    "application/vnd.databricks.v1+cell": {
     "cellMetadata": {
      "byteLimit": 2048000,
      "rowLimit": 10000
     },
     "inputWidgets": {},
     "nuid": "81d70bd2-8480-4a3a-bcde-367ebfd78761",
     "showTitle": false,
     "tableResultSettingsMap": {
      "0": {
       "dataGridStateBlob": null,
       "filterBlob": "{\"version\":1,\"filterGroups\":[],\"syncTimestamp\":1751338054253}",
       "queryPlanFiltersBlob": "[]",
       "tableResultIndex": 0
      }
     },
     "title": ""
    }
   },
   "outputs": [
    {
     "output_type": "display_data",
     "data": {
      "text/plain": [
       "Databricks visualization. Run in Databricks to view."
      ]
     },
     "metadata": {
      "application/vnd.databricks.v1.subcommand+json": {
       "baseErrorDetails": null,
       "bindings": {},
       "collapsed": false,
       "command": "%sql WITH q AS (SELECT *\nFROM materncare_anlytics.silver.matern_health_hospital_data \nWHERE \n\n STATE IN ('NC') \nAND \n \n Trim(County_Parish) = Trim('WAKE')) SELECT `City_Town`,`County_Parish` FROM q GROUP BY `City_Town`,`County_Parish`",
       "commandTitle": "Visualization 1",
       "commandType": "auto",
       "commandVersion": 0,
       "commentThread": [],
       "commentsVisible": false,
       "contentSha256Hex": null,
       "customPlotOptions": {
        "redashChart": [
         {
          "key": "type",
          "value": "CHART"
         },
         {
          "key": "options",
          "value": {
           "alignYAxesAtZero": true,
           "coefficient": 1,
           "columnConfigurationMap": {
            "series": {
             "column": "County_Parish",
             "id": "column_3b8db96538"
            },
            "x": {
             "column": "City_Town",
             "id": "column_3b8db96537"
            },
            "y": []
           },
           "dateTimeFormat": "DD/MM/YYYY HH:mm",
           "direction": {
            "type": "counterclockwise"
           },
           "error_y": {
            "type": "data",
            "visible": true
           },
           "globalSeriesType": "column",
           "legend": {
            "traceorder": "normal"
           },
           "missingValuesAsZero": true,
           "numberFormat": "0,0.[00000]",
           "percentFormat": "0[.]00%",
           "series": {
            "error_y": {
             "type": "data",
             "visible": true
            },
            "stacking": null
           },
           "seriesOptions": {},
           "showDataLabels": false,
           "sizemode": "diameter",
           "sortX": true,
           "sortY": true,
           "swappedAxes": false,
           "textFormat": "",
           "useAggregationsUi": true,
           "valuesOptions": {},
           "version": 2,
           "xAxis": {
            "labels": {
             "enabled": true
            },
            "type": "-"
           },
           "yAxis": [
            {
             "type": "-"
            },
            {
             "opposite": true,
             "type": "-"
            }
           ]
          }
         }
        ]
       },
       "datasetPreviewNameToCmdIdMap": {},
       "diffDeletes": [],
       "diffInserts": [],
       "displayType": "redashChart",
       "error": null,
       "errorDetails": null,
       "errorSummary": null,
       "errorTraceType": null,
       "finishTime": 0,
       "globalVars": {},
       "guid": "",
       "height": "auto",
       "hideCommandCode": false,
       "hideCommandResult": false,
       "iPythonMetadata": null,
       "inputWidgets": {},
       "isLockedInExamMode": false,
       "latestUser": "a user",
       "latestUserId": null,
       "listResultMetadata": null,
       "metadata": {},
       "nuid": "6a343a69-ed6d-41dc-b403-787ebe32f472",
       "origId": 0,
       "parentHierarchy": [],
       "pivotAggregation": null,
       "pivotColumns": null,
       "position": 9.0,
       "resultDbfsErrorMessage": null,
       "resultDbfsStatus": "INLINED_IN_TREE",
       "results": null,
       "showCommandTitle": false,
       "startTime": 0,
       "state": "input",
       "streamStates": {},
       "subcommandOptions": {
        "queryPlan": {
         "groups": [
          {
           "column": "City_Town",
           "type": "column"
          },
          {
           "column": "County_Parish",
           "type": "column"
          }
         ],
         "selects": [
          {
           "column": "City_Town",
           "type": "column"
          },
          {
           "column": "County_Parish",
           "type": "column"
          }
         ]
        }
       },
       "submitTime": 0,
       "subtype": "tableResultSubCmd.visualization",
       "tableResultIndex": 0,
       "tableResultSettingsMap": {},
       "useConsistentColors": false,
       "version": "CommandV1",
       "width": "auto",
       "workflows": null,
       "xColumns": null,
       "yColumns": null
      }
     },
     "output_type": "display_data"
    },
    {
     "output_type": "display_data",
     "data": {
      "text/plain": [
       "Databricks data profile. Run in Databricks to view."
      ]
     },
     "metadata": {
      "application/vnd.databricks.v1.subcommand+json": {
       "baseErrorDetails": null,
       "bindings": {},
       "collapsed": false,
       "command": "%python\nif hasattr(dbutils, \"data\") and hasattr(dbutils.data, \"summarize\"):\n  dbutils.data.summarize(spark.sql(r\"\"\"SELECT *\nFROM materncare_anlytics.silver.matern_health_hospital_data \nWHERE \n--Trim(Facility_Name)=Trim('SOUTHEAST HEALTH MEDICAL CENTER')\n STATE IN ('NC') \nAND \n --TRIM(City_Town) = Trim('RALEIGH')\n Trim(County_Parish) = Trim('WAKE')\n --AND\n --TRIM(Facility_Name) = Trim('REX HOSPITAL')\n --AND\n --TRIM(Measure_ID) LIKE 'ePC%' \"\"\"))\nelse:\n  print(\"This DBR version does not support data profiles.\")\n",
       "commandTitle": "Data Profile 1",
       "commandType": "auto",
       "commandVersion": 0,
       "commentThread": [],
       "commentsVisible": false,
       "contentSha256Hex": null,
       "customPlotOptions": {},
       "datasetPreviewNameToCmdIdMap": {},
       "diffDeletes": [],
       "diffInserts": [],
       "displayType": "table",
       "error": null,
       "errorDetails": null,
       "errorSummary": null,
       "errorTraceType": null,
       "finishTime": 1751509753834,
       "globalVars": {},
       "guid": "",
       "height": "auto",
       "hideCommandCode": false,
       "hideCommandResult": false,
       "iPythonMetadata": null,
       "inputWidgets": {},
       "isLockedInExamMode": false,
       "latestUser": "a user",
       "latestUserId": null,
       "listResultMetadata": [
        [
         "mimeBundle",
         null
        ]
       ],
       "metadata": {
        "byteLimit": 2048000,
        "rowLimit": 10000
       },
       "nuid": "b51454d7-56e8-46b8-8262-f834526d6275",
       "origId": 0,
       "parentHierarchy": [],
       "pivotAggregation": null,
       "pivotColumns": null,
       "position": 8.0,
       "resultDbfsErrorMessage": null,
       "resultDbfsStatus": "INLINED_IN_TREE",
       "results": null,
       "showCommandTitle": false,
       "startTime": 1751509749986,
       "state": "input",
       "streamStates": {},
       "subcommandOptions": null,
       "submitTime": 1751509741892,
       "subtype": "tableResultSubCmd.dataSummary",
       "tableResultIndex": 0,
       "tableResultSettingsMap": {},
       "useConsistentColors": false,
       "version": "CommandV1",
       "width": "auto",
       "workflows": null,
       "xColumns": null,
       "yColumns": null
      }
     },
     "output_type": "display_data"
    }
   ],
   "source": [
    "SELECT *\n",
    "FROM materncare_anlytics.silver.matern_health_hospital_data \n",
    "WHERE \n",
    "--Trim(Facility_Name)=Trim('SOUTHEAST HEALTH MEDICAL CENTER')\n",
    " STATE IN ('NC') \n",
    "--AND \n",
    " --TRIM(City_Town) = Trim('RALEIGH')\n",
    " --Trim(County_Parish) = Trim('WAKE')\n",
    " --AND\n",
    " --TRIM(Facility_Name) = Trim('REX HOSPITAL')\n",
    " --AND\n",
    " --TRIM(Measure_ID) LIKE 'ePC%'"
   ]
  },
  {
   "cell_type": "code",
   "execution_count": 0,
   "metadata": {
    "application/vnd.databricks.v1+cell": {
     "cellMetadata": {
      "byteLimit": 2048000,
      "rowLimit": 10000
     },
     "inputWidgets": {},
     "nuid": "47e1007a-b2c7-4664-8be0-62e86f4f621b",
     "showTitle": false,
     "tableResultSettingsMap": {},
     "title": ""
    }
   },
   "outputs": [],
   "source": [
    "WITH dw_cte_0 AS (\n",
    "  SELECT\n",
    "    *\n",
    "  FROM\n",
    "    materncare_anlytics.silver.matern_health_hospital_data\n",
    ")\n",
    "SELECT \n",
    "  * \n",
    "FROM \n",
    "  dw_cte_0 \n",
    "WHERE \n",
    "  STATE IN ('CA') \n",
    "  AND City_Town IN ('SAN FRANCISCO')"
   ]
  }
 ],
 "metadata": {
  "application/vnd.databricks.v1+notebook": {
   "computePreferences": null,
   "dashboards": [
    {
     "elements": [
      {
       "dashboardResultIndex": 0,
       "elementNUID": "81d70bd2-8480-4a3a-bcde-367ebfd78761",
       "elementType": "command",
       "guid": "0a96c5c1-08a2-467c-b0f5-ab06d71902b1",
       "options": null,
       "position": {
        "height": 12,
        "width": 17,
        "x": 0,
        "y": 0,
        "z": null
       },
       "resultIndex": null
      }
     ],
     "globalVars": {},
     "guid": "",
     "layoutOption": {
      "grid": true,
      "stack": true
     },
     "nuid": "4a3c7961-b2b9-498c-bfec-c472f45c01e5",
     "origId": 4797376459687128,
     "title": "Untitled",
     "version": "DashboardViewV1",
     "width": 1024
    }
   ],
   "environmentMetadata": {
    "base_environment": "",
    "environment_version": "2"
   },
   "inputWidgetPreferences": null,
   "language": "sql",
   "notebookMetadata": {
    "pythonIndentUnit": 4
   },
   "notebookName": "03-Transform-Reporting-Dimensions-Table",
   "widgets": {}
  },
  "language_info": {
   "name": "sql"
  }
 },
 "nbformat": 4,
 "nbformat_minor": 0
}
