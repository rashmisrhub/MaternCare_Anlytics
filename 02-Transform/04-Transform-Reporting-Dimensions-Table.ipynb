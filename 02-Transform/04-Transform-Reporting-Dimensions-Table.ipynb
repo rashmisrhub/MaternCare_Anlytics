{
 "cells": [
  {
   "cell_type": "markdown",
   "metadata": {
    "application/vnd.databricks.v1+cell": {
     "cellMetadata": {},
     "inputWidgets": {},
     "nuid": "94f6765b-4736-457e-add1-bfdb9c6d59b1",
     "showTitle": false,
     "tableResultSettingsMap": {},
     "title": ""
    }
   },
   "source": [
    "| Measure ID | Measure Name |\n",
    "| --- | --- |\n",
    "| ePC-02 |The rate of nulliparous women with a term, singleton baby in a vertex position delivered by C-section birth  |\n",
    "ePC-07a | Rate of any serious complications for mothers during delivery (per 10,000 deliveries) |\n",
    "ePC-07b | Rate of serious complications (excluding blood transfusions) for mothers during delivery (per 10,000 deliveries) |\n",
    "PC-05 |Percentage of newborns that were exclusively fed breastmilk during the entire hospitalization |\n",
    "SM-7 | Assesses whether or not a hospital participates in a Statewide or National Perinatal Quality Improvement (QI) Collaborative Initiative\n"
   ]
  },
  {
   "cell_type": "code",
   "execution_count": 0,
   "metadata": {
    "application/vnd.databricks.v1+cell": {
     "cellMetadata": {},
     "inputWidgets": {},
     "nuid": "cffe9007-35ea-4270-97d0-93744562b4d3",
     "showTitle": false,
     "tableResultSettingsMap": {},
     "title": ""
    }
   },
   "outputs": [],
   "source": []
  },
  {
   "cell_type": "markdown",
   "metadata": {
    "application/vnd.databricks.v1+cell": {
     "cellMetadata": {},
     "inputWidgets": {},
     "nuid": "18832016-4158-4fc5-bc19-a38d54bdab66",
     "showTitle": false,
     "tableResultSettingsMap": {},
     "title": ""
    }
   },
   "source": [
    "%md\n",
    "| SOURCE_TABLE_NAME | SOURCE_COLUMN_NAME | REPORTING_TABLE_NAME | REPORTING_COLUMN_NAME | TRANSFORMATION RULE | CONDITIONS |\n",
    "| --- | --- |--- | --- |--- |--- |\n",
    "| matern_health_hospital_data| state_name\t|***REPORTING_DIM_STATE_GOLD***\t|***STATE_NAME***\t| Select Unique state_name Values | Identify New/Changed Records From the Source Table . Use ***lakehouse_updated_date Column*** in source table to Identify New/Changed Records|\n",
    "| DERIVED\t| DERIVED\t|***REPORTING_DIM_STATE_GOLD***\t| ***STATE_ID***\t| Generate Running Sequnece ID For Each Unique state_name Values | 1. Make Sure No Duplicate State_Name Values Loaded 2.  When loading new State_Name values in subsquent run , STATE_ID values need to be generated on top of existing MAX(STATE_ID)   |\n",
    "| DERIVED\t| DERIVED\t|***REPORTING_DIM_STATE_GOLD***\t| ***lakehouse_inserted_date***\t| Load current_timestamp() | |\n",
    "| DERIVED\t| DERIVED\t|***REPORTING_DIM_STATE_GOLD***\t| ***lakehouse_updated_date***\t| Load current_timestamp() | |"
   ]
  },
  {
   "cell_type": "code",
   "execution_count": 0,
   "metadata": {
    "application/vnd.databricks.v1+cell": {
     "cellMetadata": {
      "byteLimit": 2048000,
      "rowLimit": 10000
     },
     "inputWidgets": {},
     "nuid": "43557046-31a3-440b-97ee-1f8e45114a19",
     "showTitle": false,
     "tableResultSettingsMap": {},
     "title": ""
    }
   },
   "outputs": [],
   "source": [
    "\n",
    "USE CATALOG materncare_anlytics;\n",
    "\n",
    "CREATE OR REPLACE TABLE silver.reporting_dim_state_stage_1 AS\n",
    "SELECT DISTINCT State FROM materncare_anlytics.silver.matern_health_hospital_data"
   ]
  },
  {
   "cell_type": "code",
   "execution_count": 0,
   "metadata": {
    "application/vnd.databricks.v1+cell": {
     "cellMetadata": {
      "byteLimit": 2048000,
      "rowLimit": 10000
     },
     "inputWidgets": {},
     "nuid": "ff124557-2601-448e-8633-d3d80b705ff1",
     "showTitle": false,
     "tableResultSettingsMap": {},
     "title": ""
    }
   },
   "outputs": [],
   "source": [
    "SELECT FACILITY_NAME, row_number() OVER (ORDER BY Facility_Name) AS FACILITY_COUNT FROM materncare_anlytics.silver.reporting_dim_state_stage_1 "
   ]
  },
  {
   "cell_type": "code",
   "execution_count": 0,
   "metadata": {
    "application/vnd.databricks.v1+cell": {
     "cellMetadata": {
      "byteLimit": 2048000,
      "rowLimit": 10000
     },
     "inputWidgets": {},
     "nuid": "c183ed8d-9a22-44a4-a2f6-1351fce47982",
     "showTitle": false,
     "tableResultSettingsMap": {},
     "title": ""
    }
   },
   "outputs": [],
   "source": [
    "SELECT DISTINCT Measure_Name, Measure_ID FROM materncare_anlytics.silver.matern_health_hospital_data"
   ]
  },
  {
   "cell_type": "markdown",
   "metadata": {
    "application/vnd.databricks.v1+cell": {
     "cellMetadata": {},
     "inputWidgets": {},
     "nuid": "5b755e22-93d5-4e50-9949-1969a02e60a4",
     "showTitle": false,
     "tableResultSettingsMap": {},
     "title": ""
    }
   },
   "source": [
    "REPORT 1: SHOW LIST OF MATERNITY HOSPITAL IN STATE NC\n",
    "\n"
   ]
  },
  {
   "cell_type": "code",
   "execution_count": 0,
   "metadata": {
    "application/vnd.databricks.v1+cell": {
     "cellMetadata": {
      "byteLimit": 2048000,
      "rowLimit": 10000
     },
     "inputWidgets": {},
     "nuid": "81d70bd2-8480-4a3a-bcde-367ebfd78761",
     "showTitle": false,
     "tableResultSettingsMap": {
      "0": {
       "dataGridStateBlob": null,
       "filterBlob": "{\"version\":1,\"filterGroups\":[],\"syncTimestamp\":1751338054253}",
       "queryPlanFiltersBlob": "[]",
       "tableResultIndex": 0
      }
     },
     "title": ""
    }
   },
   "outputs": [],
   "source": [
    "SELECT *\n",
    "FROM materncare_anlytics.silver.matern_health_hospital_data \n",
    "WHERE \n",
    "--Trim(Facility_Name)=Trim('SOUTHEAST HEALTH MEDICAL CENTER')\n",
    " STATE IN ('NC') \n",
    "AND \n",
    " TRIM(City_Town) = Trim('RALEIGH')\n",
    " AND\n",
    " TRIM(Facility_Name) = Trim('REX HOSPITAL')\n",
    " AND\n",
    " TRIM(Measure_ID) LIKE 'ePC%'"
   ]
  },
  {
   "cell_type": "code",
   "execution_count": 0,
   "metadata": {
    "application/vnd.databricks.v1+cell": {
     "cellMetadata": {
      "byteLimit": 2048000,
      "rowLimit": 10000
     },
     "inputWidgets": {},
     "nuid": "47e1007a-b2c7-4664-8be0-62e86f4f621b",
     "showTitle": false,
     "tableResultSettingsMap": {},
     "title": ""
    }
   },
   "outputs": [],
   "source": [
    "WITH dw_cte_0 AS (\n",
    "  SELECT\n",
    "    *\n",
    "  FROM\n",
    "    materncare_anlytics.silver.matern_health_hospital_data\n",
    ")\n",
    "SELECT \n",
    "  * \n",
    "FROM \n",
    "  dw_cte_0 \n",
    "WHERE \n",
    "  STATE IN ('CA') \n",
    "  AND City_Town IN ('SAN FRANCISCO')"
   ]
  }
 ],
 "metadata": {
  "application/vnd.databricks.v1+notebook": {
   "computePreferences": null,
   "dashboards": [],
   "environmentMetadata": {
    "base_environment": "",
    "environment_version": "2"
   },
   "inputWidgetPreferences": null,
   "language": "sql",
   "notebookMetadata": {
    "pythonIndentUnit": 4
   },
   "notebookName": "04-Transform-Reporting-Dimensions-Table",
   "widgets": {}
  },
  "language_info": {
   "name": "sql"
  }
 },
 "nbformat": 4,
 "nbformat_minor": 0
}
