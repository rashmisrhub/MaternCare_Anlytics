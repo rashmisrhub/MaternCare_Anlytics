{
 "cells": [
  {
   "cell_type": "markdown",
   "metadata": {
    "application/vnd.databricks.v1+cell": {
     "cellMetadata": {},
     "inputWidgets": {},
     "nuid": "94f6765b-4736-457e-add1-bfdb9c6d59b1",
     "showTitle": false,
     "tableResultSettingsMap": {},
     "title": ""
    }
   },
   "source": [
    "Transform: Split and create a dimenstion table for unique questions(question asked for Pregnancy Risks Assessment ) from CSV data. There are 520K records, show a report on number of  unique questions.\n",
    "\n",
    "Create a new Gold Table to keep unique questions and publish\n",
    "\n",
    "|Colmuns| DATA Type\n",
    "|--|--|\n",
    " question_no| INT\n",
    "  Question_Id | STRING\n",
    "  Question | STRING\n",
    "\n"
   ]
  },
  {
   "cell_type": "markdown",
   "metadata": {
    "application/vnd.databricks.v1+cell": {
     "cellMetadata": {},
     "inputWidgets": {},
     "nuid": "266d718b-6170-47e9-a418-5b7ba8322b3d",
     "showTitle": false,
     "tableResultSettingsMap": {},
     "title": ""
    }
   },
   "source": [
    "###STEP1: \n",
    "|A) CREATE A STAGING TABLE TO PULL DISTINCT QUESTIONS FROM MAIN CSV RECORD|\n",
    "|--|\n",
    "B)DATA CLEANUP WITH AMBIGUOUS QUESTIONS (SAME QUESTION MULTIPLE TIME DUE TO ADDITIONAL CHARACTER LIKE COMMA)|\n",
    "C)INSERT CLEANED UP DATA TO GOLD TABLE WITH UNQIUE QUESTIONS"
   ]
  },
  {
   "cell_type": "code",
   "execution_count": 0,
   "metadata": {
    "application/vnd.databricks.v1+cell": {
     "cellMetadata": {},
     "inputWidgets": {},
     "nuid": "5ee01c1e-e18b-417a-93bf-0b8bc83a0020",
     "showTitle": false,
     "tableResultSettingsMap": {},
     "title": ""
    }
   },
   "outputs": [],
   "source": [
    "/*Create a staging table into Silver schema*/\n",
    "USE CATALOG materncare_anlytics;\n",
    "CREATE OR REPLACE TABLE silver.prams_questions_dim_stage_2\n",
    "(\n",
    "  questionno INTEGER,\n",
    "  QuestionId string,\n",
    "  Question string\n",
    ")"
   ]
  },
  {
   "cell_type": "code",
   "execution_count": 0,
   "metadata": {
    "application/vnd.databricks.v1+cell": {
     "cellMetadata": {
      "byteLimit": 2048000,
      "rowLimit": 10000
     },
     "inputWidgets": {},
     "nuid": "dbd2baf1-63e9-47db-a5f9-cee72afbc871",
     "showTitle": false,
     "tableResultSettingsMap": {},
     "title": ""
    }
   },
   "outputs": [],
   "source": [
    "/*Insert distinct question (256 questions)*/\n",
    "INSERT INTO materncare_anlytics.silver.prams_questions_dim_stage_2\n",
    "SELECT DISTINCT\n",
    "  SUBSTRING(questionid, 4) as questionno,\n",
    "  QuestionId,\n",
    "  Question \n",
    "FROM materncare_anlytics.silver.prams_data\n",
    "ORDER BY questionno ASC\n",
    "\n",
    "\n",
    " \n"
   ]
  },
  {
   "cell_type": "markdown",
   "metadata": {
    "application/vnd.databricks.v1+cell": {
     "cellMetadata": {},
     "inputWidgets": {},
     "nuid": "3a8048e7-c6da-4c84-baf6-fbce62741160",
     "showTitle": false,
     "tableResultSettingsMap": {},
     "title": ""
    }
   },
   "source": [
    "b)DATA CLEANUP WITH AMBIGUOUS QUESTIONS (SAME QUESTION MULTIPLE TIME DUE TO ADDITIONA CHARACTER LIKE COMMA)"
   ]
  },
  {
   "cell_type": "code",
   "execution_count": 0,
   "metadata": {
    "application/vnd.databricks.v1+cell": {
     "cellMetadata": {},
     "inputWidgets": {},
     "nuid": "30515cc2-dd23-46f2-8bc7-50f77c187a73",
     "showTitle": false,
     "tableResultSettingsMap": {},
     "title": ""
    }
   },
   "outputs": [],
   "source": [
    "/*Create another staging table with ambiguous question numbers*/\n",
    "USE CATALOG materncare_anlytics;\n",
    "CREATE OR REPLACE TABLE silver.prams_questions_dim_stage_1\n",
    "(\n",
    "  questionno INTEGER,\n",
    "  QuestionId string,\n",
    "  Question string,\n",
    "  recordno INTEGER\n",
    ")"
   ]
  },
  {
   "cell_type": "code",
   "execution_count": 0,
   "metadata": {
    "application/vnd.databricks.v1+cell": {
     "cellMetadata": {
      "byteLimit": 2048000,
      "rowLimit": 10000
     },
     "inputWidgets": {},
     "nuid": "bc5966b9-7684-43b6-b0a0-25250b2b7ff9",
     "showTitle": false,
     "tableResultSettingsMap": {},
     "title": ""
    }
   },
   "outputs": [],
   "source": [
    "/*Insert recoirds with additional column partioning same record with count*/\n",
    "INSERT INTO materncare_anlytics.silver.prams_questions_dim_stage_1\n",
    "SELECT \n",
    "  *,\n",
    "  CASE \n",
    "    WHEN COUNT(*) OVER (PARTITION BY questionno) > 1 THEN true\n",
    "    ELSE false\n",
    "  END --AS has_duplicate_questionno\n",
    "FROM materncare_anlytics.silver.prams_questions_dim_stage_2\n",
    "ORDER BY questionno ASC\n",
    "\n",
    "\n",
    "/*reInsert recoirds with additional column partioning same record with count*/\n",
    " INSERT INTO materncare_anlytics.silver.prams_questions_dim_stage_2\n",
    " SELECT\n",
    "      questionno,\n",
    "      QuestionId,\n",
    "      Question,\n",
    "      ROW_NUMBER() OVER (PARTITION BY questionno ORDER BY QuestionId ASC) AS rn\n",
    "    FROM materncare_anlytics.silver.prams_questions_dim_stage_1"
   ]
  },
  {
   "cell_type": "code",
   "execution_count": 0,
   "metadata": {
    "application/vnd.databricks.v1+cell": {
     "cellMetadata": {
      "byteLimit": 2048000,
      "rowLimit": 10000
     },
     "inputWidgets": {},
     "nuid": "76b34ad1-8083-4c3f-8e15-764452fdbb80",
     "showTitle": false,
     "tableResultSettingsMap": {},
     "title": ""
    }
   },
   "outputs": [],
   "source": [
    "/*Delete ambiguios questions from staging 2 table*/\n",
    "DELETE from materncare_anlytics.silver.prams_questions_dim_stage_2\n",
    "where TRIM(question) IN (\n",
    "SELECT A.Question\n",
    "FROM materncare_anlytics.silver.prams_questions_dim_stage_2 A\n",
    "JOIN materncare_anlytics.silver.prams_questions_dim_stage_1 B\n",
    "ON TRIM(A.question) = TRIM(B.question)\n",
    "WHERE B.recordno = 1)\n",
    "    "
   ]
  },
  {
   "cell_type": "code",
   "execution_count": 0,
   "metadata": {
    "application/vnd.databricks.v1+cell": {
     "cellMetadata": {
      "byteLimit": 2048000,
      "rowLimit": 10000
     },
     "inputWidgets": {},
     "nuid": "6769efea-87ef-4525-8649-febf0fc7c90d",
     "showTitle": false,
     "tableResultSettingsMap": {},
     "title": ""
    }
   },
   "outputs": [],
   "source": [
    "SELECT \n",
    "ROW_NUMBER() OVER (ORDER BY questionno, QuestionId ASC) AS row_num,\n",
    "questionno,\n",
    "QuestionId,\n",
    "Question\n",
    "FROM materncare_anlytics.silver.prams_questions_dim_stage_2"
   ]
  },
  {
   "cell_type": "code",
   "execution_count": 0,
   "metadata": {
    "application/vnd.databricks.v1+cell": {
     "cellMetadata": {},
     "inputWidgets": {},
     "nuid": "22859392-582a-40cf-8461-ff99df60c5d5",
     "showTitle": false,
     "tableResultSettingsMap": {},
     "title": ""
    }
   },
   "outputs": [],
   "source": []
  },
  {
   "cell_type": "markdown",
   "metadata": {
    "application/vnd.databricks.v1+cell": {
     "cellMetadata": {},
     "inputWidgets": {},
     "nuid": "309b72d8-49b7-4eec-a8ba-f5f5c656abef",
     "showTitle": false,
     "tableResultSettingsMap": {},
     "title": ""
    }
   },
   "source": [
    "MOVE TRANSFORMED DATA TO GOLD TABLE"
   ]
  },
  {
   "cell_type": "code",
   "execution_count": 0,
   "metadata": {
    "application/vnd.databricks.v1+cell": {
     "cellMetadata": {
      "byteLimit": 2048000,
      "rowLimit": 10000
     },
     "inputWidgets": {},
     "nuid": "06ced11f-496f-4b42-8c07-7ff9284e5cb6",
     "showTitle": false,
     "tableResultSettingsMap": {},
     "title": ""
    }
   },
   "outputs": [],
   "source": [
    "USE CATALOG materncare_anlytics;\n",
    "CREATE SCHEMA IF NOT EXISTS gold;\n",
    "CREATE OR REPLACE TABLE gold.prams_questions_dim\n",
    "(\n",
    "  row_num INT,\n",
    "  question_no INT,\n",
    "  Question_Id STRING,\n",
    "  Question STRING\n",
    ")"
   ]
  },
  {
   "cell_type": "code",
   "execution_count": 0,
   "metadata": {
    "application/vnd.databricks.v1+cell": {
     "cellMetadata": {
      "byteLimit": 2048000,
      "rowLimit": 10000
     },
     "inputWidgets": {},
     "nuid": "8f513582-06b4-490c-96d4-44fcc6b6b296",
     "showTitle": false,
     "tableResultSettingsMap": {},
     "title": ""
    }
   },
   "outputs": [],
   "source": [
    "INSERT INTO materncare_anlytics.gold.prams_questions_dim\n",
    "SELECT \n",
    "ROW_NUMBER() OVER (ORDER BY questionno, QuestionId ASC) AS row_num,\n",
    "questionno,\n",
    "QuestionId,\n",
    "Question\n",
    "FROM materncare_anlytics.silver.prams_questions_dim_stage_2"
   ]
  },
  {
   "cell_type": "markdown",
   "metadata": {
    "application/vnd.databricks.v1+cell": {
     "cellMetadata": {},
     "inputWidgets": {},
     "nuid": "3371a193-b934-4105-b9a7-c1bb93a69cc9",
     "showTitle": false,
     "tableResultSettingsMap": {},
     "title": ""
    }
   },
   "source": [
    "Drop staging tables"
   ]
  },
  {
   "cell_type": "code",
   "execution_count": 0,
   "metadata": {
    "application/vnd.databricks.v1+cell": {
     "cellMetadata": {
      "byteLimit": 2048000,
      "rowLimit": 10000
     },
     "inputWidgets": {},
     "nuid": "8391d371-9f7d-45ed-9796-ef857881c815",
     "showTitle": false,
     "tableResultSettingsMap": {},
     "title": ""
    }
   },
   "outputs": [],
   "source": [
    "DROP TABLE silver.prams_questions_dim_stage_1;\n",
    "DROP TABLE silver.prams_questions_dim_stage_2"
   ]
  }
 ],
 "metadata": {
  "application/vnd.databricks.v1+notebook": {
   "computePreferences": null,
   "dashboards": [
    {
     "elements": [],
     "globalVars": {},
     "guid": "",
     "layoutOption": {
      "grid": true,
      "stack": true
     },
     "nuid": "4a3c7961-b2b9-498c-bfec-c472f45c01e5",
     "origId": 492700326027313,
     "title": "Untitled",
     "version": "DashboardViewV1",
     "width": 1024
    }
   ],
   "environmentMetadata": {
    "base_environment": "",
    "environment_version": "2"
   },
   "inputWidgetPreferences": null,
   "language": "sql",
   "notebookMetadata": {
    "pythonIndentUnit": 4
   },
   "notebookName": "04-PRAMS-Transform-Reporting-Dimensions-Question-Table",
   "widgets": {}
  },
  "language_info": {
   "name": "sql"
  }
 },
 "nbformat": 4,
 "nbformat_minor": 0
}
