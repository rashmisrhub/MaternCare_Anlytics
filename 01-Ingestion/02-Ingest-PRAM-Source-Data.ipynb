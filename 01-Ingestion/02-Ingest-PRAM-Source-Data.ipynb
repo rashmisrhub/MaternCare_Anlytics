{
 "cells": [
  {
   "cell_type": "markdown",
   "metadata": {
    "application/vnd.databricks.v1+cell": {
     "cellMetadata": {
      "byteLimit": 2048000,
      "rowLimit": 10000
     },
     "inputWidgets": {},
     "nuid": "8d582788-dfba-47c8-a221-d216e58854f7",
     "showTitle": false,
     "tableResultSettingsMap": {},
     "title": ""
    }
   },
   "source": [
    "Ingest PRAM(Pregnancy Risk Assesment Montoring) Health Data CSV Source File\n",
    "URL: https://materncaredatalakehouse.file.core.windows.net/pramfile/PregnancyRiskAssesment.csv\n",
    "\n"
   ]
  },
  {
   "cell_type": "code",
   "execution_count": 0,
   "metadata": {
    "application/vnd.databricks.v1+cell": {
     "cellMetadata": {
      "byteLimit": 2048000,
      "rowLimit": 10000
     },
     "inputWidgets": {},
     "nuid": "051ecf65-8313-4001-97db-22b4cb73ce3c",
     "showTitle": false,
     "tableResultSettingsMap": {},
     "title": ""
    }
   },
   "outputs": [],
   "source": [
    "processName = dbutils.widgets.get('prm_processName')\n",
    "\n",
    "nextSourceFileDateSql = f\"\"\"SELECT NVL(MAX(PROCESSED_FILE_TABLE_DATE)+1,'2025-06-01')  as NEXT_SOURCE_FILE_DATE FROM materncare_anlytics.processlogs.deltalakehouse_process_run \n",
    "WHERE PROCESS_NAME = '{processName}' and PROCESS_STATUS='Completed'\"\"\"\n",
    "\n",
    "\n",
    "nextSourceFileDateDF = spark.sql(nextSourceFileDateSql)\n",
    "display(nextSourceFileDateDF)"
   ]
  },
  {
   "cell_type": "code",
   "execution_count": 0,
   "metadata": {
    "application/vnd.databricks.v1+cell": {
     "cellMetadata": {
      "byteLimit": 2048000,
      "rowLimit": 10000
     },
     "inputWidgets": {},
     "nuid": "33d4157f-184a-481f-9e19-ed907fb75dd3",
     "showTitle": false,
     "tableResultSettingsMap": {},
     "title": ""
    }
   },
   "outputs": [],
   "source": [
    "\n",
    "PRAMourceLayerName= \"materncare-analytics\"\n",
    "PRAMSourceStorageName= \"materncaredatalakehouse\"\n",
    "PRAMSourceFileName= \"PregnancyRiskAssesment.csv\"\n",
    "\n",
    "\n",
    "PRAMSinkLayerName= \"bronze\"\n",
    "PRAMSinkStorageName= \"materncaredatalakehouse\"\n",
    "PRAMStorageFolderName=\"Pregnancy-Data\"\n",
    "\n",
    "\n"
   ]
  },
  {
   "cell_type": "code",
   "execution_count": 0,
   "metadata": {
    "application/vnd.databricks.v1+cell": {
     "cellMetadata": {
      "byteLimit": 2048000,
      "rowLimit": 10000
     },
     "inputWidgets": {},
     "nuid": "72c5c758-d8b5-46df-8fec-c0f9f82f4875",
     "showTitle": false,
     "tableResultSettingsMap": {},
     "title": ""
    }
   },
   "outputs": [],
   "source": [
    "%python\n",
    "import pandas as pds"
   ]
  },
  {
   "cell_type": "code",
   "execution_count": 0,
   "metadata": {
    "application/vnd.databricks.v1+cell": {
     "cellMetadata": {
      "byteLimit": 2048000,
      "rowLimit": 10000
     },
     "inputWidgets": {},
     "nuid": "0d2deca7-99b4-4aee-8ee4-427efe469e69",
     "showTitle": false,
     "tableResultSettingsMap": {},
     "title": ""
    }
   },
   "outputs": [],
   "source": [
    "%python\n",
    "%pip install fsspec\n",
    "\n",
    "from pyspark.sql.functions import current_timestamp\n",
    "PRAMSourceFolderPath = f\"abfss://{PRAMourceLayerName}@{PRAMSourceStorageName}.dfs.core.windows.net/{PRAMSourceFileName}\"\n",
    "print(PRAMSourceFolderPath)\n",
    "\n",
    "PRAMSparkDF = spark.read.format('csv').option('header', 'true').load(PRAMSourceFolderPath); PRAMPandaDF = PRAMSparkDF.toPandas()\n",
    "print(PRAMPandaDF)"
   ]
  },
  {
   "cell_type": "code",
   "execution_count": 0,
   "metadata": {
    "application/vnd.databricks.v1+cell": {
     "cellMetadata": {
      "byteLimit": 2048000,
      "rowLimit": 10000
     },
     "inputWidgets": {},
     "nuid": "f80e08c7-d716-47f4-babb-9c14e331a47d",
     "showTitle": false,
     "tableResultSettingsMap": {},
     "title": ""
    }
   },
   "outputs": [],
   "source": [
    "PRAMSparkDFWrite =  spark.createDataFrame(PRAMPandaDF)"
   ]
  },
  {
   "cell_type": "code",
   "execution_count": 0,
   "metadata": {
    "application/vnd.databricks.v1+cell": {
     "cellMetadata": {
      "byteLimit": 2048000,
      "rowLimit": 10000
     },
     "inputWidgets": {},
     "nuid": "2e387d18-2967-451f-acad-36c044f5464b",
     "showTitle": false,
     "tableResultSettingsMap": {},
     "title": ""
    }
   },
   "outputs": [],
   "source": [
    "from pyspark.sql.functions import current_timestamp\n",
    "PRAMSinkFolderPath = f\"abfss://{PRAMSinkLayerName}@{PRAMSinkStorageName}.dfs.core.windows.net/{PRAMStorageFolderName}\"\n",
    "print(PRAMSinkFolderPath)\n",
    "# Remove or cast the unsupported column\n",
    "PRAMSparkDFWrite = PRAMSparkDFWrite.drop(\"Data_Value_Std_Err\")\n",
    "\n",
    "(\n",
    "    PRAMSparkDFWrite\n",
    "    .withColumn(\"source_file_load_date\",current_timestamp())\n",
    "    .write\n",
    "    .mode(\"append\")\n",
    "    .option(\"header\",\"true\")\n",
    "    .csv(PRAMSinkFolderPath)\n",
    "\n",
    ")"
   ]
  },
  {
   "cell_type": "code",
   "execution_count": 0,
   "metadata": {
    "application/vnd.databricks.v1+cell": {
     "cellMetadata": {
      "byteLimit": 2048000,
      "rowLimit": 10000
     },
     "inputWidgets": {},
     "nuid": "d8d5c64c-c337-4f77-90f9-95fef77e73af",
     "showTitle": false,
     "tableResultSettingsMap": {},
     "title": ""
    }
   },
   "outputs": [],
   "source": [
    "processFileDate = nextSourceFileDateDF.select('NEXT_SOURCE_FILE_DATE').collect()[0]['NEXT_SOURCE_FILE_DATE']\n",
    "processStatus ='Completed'\n",
    "\n",
    "processInsertSql = f\"\"\" INSERT INTO materncare_anlytics.processlogs.deltalakehouse_process_run(PROCESS_NAME,PROCESSED_FILE_TABLE_DATE,PROCESS_STATUS) VALUES('{processName}','{processFileDate}','{processStatus}')\"\"\"\n",
    "\n",
    "spark.sql(processInsertSql)"
   ]
  },
  {
   "cell_type": "markdown",
   "metadata": {
    "application/vnd.databricks.v1+cell": {
     "cellMetadata": {
      "byteLimit": 2048000,
      "rowLimit": 10000
     },
     "inputWidgets": {},
     "nuid": "3d52e58f-f43d-4607-8254-fa09f110f831",
     "showTitle": false,
     "tableResultSettingsMap": {},
     "title": ""
    }
   },
   "source": []
  }
 ],
 "metadata": {
  "application/vnd.databricks.v1+notebook": {
   "computePreferences": null,
   "dashboards": [],
   "environmentMetadata": {
    "base_environment": "",
    "environment_version": "2"
   },
   "inputWidgetPreferences": null,
   "language": "python",
   "notebookMetadata": {
    "mostRecentlyExecutedCommandWithImplicitDF": {
     "commandId": 8009097457208922,
     "dataframes": [
      "_sqldf"
     ]
    },
    "pythonIndentUnit": 4
   },
   "notebookName": "02-Ingest-PRAM-Source-Data",
   "widgets": {
    "prm_processName": {
     "currentValue": "PregnancyRiskDataSourceIngest",
     "nuid": "382adb1f-333a-4975-b66e-c5f817fa813c",
     "typedWidgetInfo": {
      "autoCreated": false,
      "defaultValue": "",
      "label": "",
      "name": "prm_processName",
      "options": {
       "widgetDisplayType": "Text",
       "validationRegex": null
      },
      "parameterDataType": "String"
     },
     "widgetInfo": {
      "widgetType": "text",
      "defaultValue": "",
      "label": "",
      "name": "prm_processName",
      "options": {
       "widgetType": "text",
       "autoCreated": false,
       "validationRegex": null
      }
     }
    }
   }
  },
  "language_info": {
   "name": "python"
  }
 },
 "nbformat": 4,
 "nbformat_minor": 0
}
