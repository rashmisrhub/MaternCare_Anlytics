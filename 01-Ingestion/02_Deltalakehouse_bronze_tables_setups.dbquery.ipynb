{
 "cells": [
  {
   "cell_type": "code",
   "execution_count": 0,
   "metadata": {
    "application/vnd.databricks.v1+cell": {
     "cellMetadata": {},
     "inputWidgets": {},
     "nuid": "fc2c0bdd-9252-4a85-a59a-59bdcf327935",
     "showTitle": false,
     "tableResultSettingsMap": {},
     "title": ""
    }
   },
   "outputs": [],
   "source": [
    "USE CATALOG materncare_anlytics;\n",
    "\n",
    "CREATE SCHEMA IF NOT EXISTS bronze;\n",
    "CREATE TABLE IF NOT EXISTS bronze.matern_health_hospital_data(\n",
    "Facility_ID STRING,\n",
    "Facility_Name STRING ,\n",
    "Address STRING,\n",
    "City_Town STRING,\n",
    "State STRING,\n",
    "ZIP_Code STRING,\n",
    "County_Parish STRING,\n",
    "Telephone_Number STRING,\n",
    "Measure_ID STRING,\n",
    "Measure_Name STRING,\n",
    "Score STRING,\n",
    "Sample STRING,\n",
    "Footnote STRING,\n",
    "Start_Date STRING,\n",
    "End_Date STRING,\n",
    "source_file_load_date TIMESTAMP)\n",
    "USING CSV\n",
    "OPTIONS(\n",
    "    'DELIMITER'=',',\n",
    "    'header'='true')\n",
    "LOCATION 'abfss://bronze@materncaredatalakehouse.dfs.core.windows.net/Matern-Hospital_Health'\n",
    ";"
   ]
  }
 ],
 "metadata": {
  "application/vnd.databricks.v1+notebook": {
   "computePreferences": null,
   "dashboards": [],
   "environmentMetadata": null,
   "inputWidgetPreferences": null,
   "language": "sql",
   "notebookMetadata": {
    "pythonIndentUnit": 4,
    "sqlQueryOptions": {
     "applyAutoLimit": true,
     "catalog": "materncare_anlytics",
     "schema": "default"
    }
   },
   "notebookName": "02_Deltalakehouse_bronze_tables_setups.dbquery.ipynb",
   "widgets": {}
  },
  "language_info": {
   "name": "sql"
  }
 },
 "nbformat": 4,
 "nbformat_minor": 0
}
