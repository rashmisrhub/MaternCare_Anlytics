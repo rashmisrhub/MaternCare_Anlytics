{
 "cells": [
  {
   "cell_type": "markdown",
   "metadata": {
    "application/vnd.databricks.v1+cell": {
     "cellMetadata": {
      "byteLimit": 2048000,
      "rowLimit": 10000
     },
     "inputWidgets": {},
     "nuid": "8d582788-dfba-47c8-a221-d216e58854f7",
     "showTitle": false,
     "tableResultSettingsMap": {},
     "title": ""
    }
   },
   "source": [
    "Ingest Matern Hospital Health Data Source File"
   ]
  },
  {
   "cell_type": "code",
   "execution_count": 0,
   "metadata": {
    "application/vnd.databricks.v1+cell": {
     "cellMetadata": {
      "byteLimit": 2048000,
      "rowLimit": 10000
     },
     "inputWidgets": {},
     "nuid": "33d4157f-184a-481f-9e19-ed907fb75dd3",
     "showTitle": false,
     "tableResultSettingsMap": {},
     "title": ""
    }
   },
   "outputs": [],
   "source": [
    "MaternHosSourceLayerName= \"materncare-analytics\"\n",
    "MaternHosSourceStorageName= \"materncaredatalakehouse\"\n",
    "MaternHosSourceFileName= \"Maternal_Health-Hospital.csv\"\n",
    "\n",
    "\n",
    "MaternHosSinkLayerName= \"bronze\"\n",
    "MaternHosSinkStorageName= \"materncaredatalakehouse\"\n",
    "MaternHosSinkStorageFolderName=\"Matern-Hospital_Health\"\n",
    "\n"
   ]
  },
  {
   "cell_type": "code",
   "execution_count": 0,
   "metadata": {
    "application/vnd.databricks.v1+cell": {
     "cellMetadata": {
      "byteLimit": 2048000,
      "rowLimit": 10000
     },
     "inputWidgets": {},
     "nuid": "72c5c758-d8b5-46df-8fec-c0f9f82f4875",
     "showTitle": false,
     "tableResultSettingsMap": {},
     "title": ""
    }
   },
   "outputs": [],
   "source": [
    "%python\n",
    "import pandas as pds"
   ]
  },
  {
   "cell_type": "code",
   "execution_count": 0,
   "metadata": {
    "application/vnd.databricks.v1+cell": {
     "cellMetadata": {
      "byteLimit": 2048000,
      "rowLimit": 10000
     },
     "inputWidgets": {},
     "nuid": "0d2deca7-99b4-4aee-8ee4-427efe469e69",
     "showTitle": false,
     "tableResultSettingsMap": {},
     "title": ""
    }
   },
   "outputs": [],
   "source": [
    "%python\n",
    "%pip install fsspec\n",
    "\n",
    "from pyspark.sql.functions import current_timestamp\n",
    "MaternHosSourceFolderPath = f\"abfss://{MaternHosSourceLayerName}@{MaternHosSourceStorageName}.dfs.core.windows.net/{MaternHosSourceFileName}\"\n",
    "print(MaternHosSourceFolderPath)\n",
    "\n",
    "MaternHospitalSparkDF = spark.read.format('csv').option('header', 'true').load(MaternHosSourceFolderPath); MaternHospitalPandaDF = MaternHospitalSparkDF.toPandas()\n",
    "print(MaternHospitalPandaDF)"
   ]
  },
  {
   "cell_type": "code",
   "execution_count": 0,
   "metadata": {
    "application/vnd.databricks.v1+cell": {
     "cellMetadata": {
      "byteLimit": 2048000,
      "rowLimit": 10000
     },
     "inputWidgets": {},
     "nuid": "f80e08c7-d716-47f4-babb-9c14e331a47d",
     "showTitle": false,
     "tableResultSettingsMap": {},
     "title": ""
    }
   },
   "outputs": [],
   "source": [
    "MaternHospitalSparkDFWrite =  spark.createDataFrame(MaternHospitalPandaDF)"
   ]
  },
  {
   "cell_type": "code",
   "execution_count": 0,
   "metadata": {
    "application/vnd.databricks.v1+cell": {
     "cellMetadata": {
      "byteLimit": 2048000,
      "rowLimit": 10000
     },
     "inputWidgets": {},
     "nuid": "2e387d18-2967-451f-acad-36c044f5464b",
     "showTitle": false,
     "tableResultSettingsMap": {},
     "title": ""
    }
   },
   "outputs": [],
   "source": [
    "from pyspark.sql.functions import current_timestamp\n",
    "MaternHosSinkFolderPath = f\"abfss://{MaternHosSinkLayerName}@{MaternHosSinkStorageName}.dfs.core.windows.net/{MaternHosSinkStorageFolderName}\"\n",
    "print(MaternHosSinkFolderPath)\n",
    "\n",
    "(\n",
    "    MaternHospitalSparkDFWrite\n",
    "    .withColumn(\"source_file_load_date\",current_timestamp())\n",
    "    .write\n",
    "    .mode(\"append\")\n",
    "    .option(\"header\",\"true\")\n",
    "    .csv(MaternHosSinkFolderPath)\n",
    "\n",
    ")"
   ]
  },
  {
   "cell_type": "markdown",
   "metadata": {
    "application/vnd.databricks.v1+cell": {
     "cellMetadata": {
      "byteLimit": 2048000,
      "rowLimit": 10000
     },
     "inputWidgets": {},
     "nuid": "3d52e58f-f43d-4607-8254-fa09f110f831",
     "showTitle": false,
     "tableResultSettingsMap": {},
     "title": ""
    }
   },
   "source": []
  }
 ],
 "metadata": {
  "application/vnd.databricks.v1+notebook": {
   "computePreferences": null,
   "dashboards": [],
   "environmentMetadata": {
    "base_environment": "",
    "environment_version": "2"
   },
   "inputWidgetPreferences": null,
   "language": "python",
   "notebookMetadata": {
    "pythonIndentUnit": 4
   },
   "notebookName": "01-Ingest-Matern-Hospital-Source-Data",
   "widgets": {}
  },
  "language_info": {
   "name": "python"
  }
 },
 "nbformat": 4,
 "nbformat_minor": 0
}
