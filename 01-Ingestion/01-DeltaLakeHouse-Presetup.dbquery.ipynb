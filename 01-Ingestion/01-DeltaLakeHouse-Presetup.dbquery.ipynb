{
 "cells": [
  {
   "cell_type": "code",
   "execution_count": 0,
   "metadata": {
    "application/vnd.databricks.v1+cell": {
     "cellMetadata": {},
     "inputWidgets": {},
     "nuid": "8ac52330-9c8b-41ec-8e67-b192ca2e0396",
     "showTitle": false,
     "tableResultSettingsMap": {},
     "title": ""
    }
   },
   "outputs": [],
   "source": [
    "\n",
    "USE CATALOG materncare_anlytics;\n",
    "CREATE SCHEMA IF NOT EXISTS processlogs;\n",
    "CREATE TABLE IF NOT EXISTS processlogs.DELTALAKEHOUSE_PROCESS_RUN(\n",
    "  process_name STRING,\n",
    "  PROCESSED_FILE_TABLE_DATE DATE,\n",
    "  PROCESS_STATUS STRING\n",
    ")USING DELTA;\n",
    "\n",
    "--select * from processlogs.DELTALAKEHOUSE_PROCESS_RUN\n",
    "\n",
    "--truncate table processlogs.DELTALAKEHOUSE_PROCESS_RUN"
   ]
  }
 ],
 "metadata": {
  "application/vnd.databricks.v1+notebook": {
   "computePreferences": null,
   "dashboards": [],
   "environmentMetadata": null,
   "inputWidgetPreferences": null,
   "language": "sql",
   "notebookMetadata": {
    "sqlQueryOptions": {
     "applyAutoLimit": true,
     "catalog": "materncare_anlytics",
     "schema": "processlogs"
    }
   },
   "notebookName": "01-DeltaLakeHouse-Presetup.dbquery.ipynb",
   "widgets": {}
  },
  "language_info": {
   "name": "sql"
  }
 },
 "nbformat": 4,
 "nbformat_minor": 0
}
